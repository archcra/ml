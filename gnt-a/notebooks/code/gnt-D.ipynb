{
 "cells": [
  {
   "cell_type": "markdown",
   "metadata": {},
   "source": [
    "前面的C，我们成功地学习了37个手写汉字。但是，那个Nerual network的DNN参数，是拍脑袋想的。我们需要再精调一下。\n",
    "\n"
   ]
  },
  {
   "cell_type": "code",
   "execution_count": null,
   "metadata": {},
   "outputs": [
    {
     "name": "stdout",
     "output_type": "stream",
     "text": [
      "Now processing path:  ../data/train_/00037\n",
      "Train data loaded.\n",
      "INFO:tensorflow:Using default config.\n",
      "INFO:tensorflow:Using config: {'_model_dir': '../dfs/checkpoint/dnn7_model_a', '_tf_random_seed': 1, '_save_summary_steps': 100, '_save_checkpoints_secs': 600, '_save_checkpoints_steps': None, '_session_config': None, '_keep_checkpoint_max': 5, '_keep_checkpoint_every_n_hours': 10000, '_log_step_count_steps': 100}\n",
      "INFO:tensorflow:Create CheckpointSaverHook.\n",
      "INFO:tensorflow:Restoring parameters from ../dfs/checkpoint/dnn7_model_a/model.ckpt-76100\n",
      "INFO:tensorflow:Saving checkpoints for 76101 into ../dfs/checkpoint/dnn7_model_a/model.ckpt.\n",
      "INFO:tensorflow:loss = 0.119615, step = 76101\n",
      "INFO:tensorflow:global_step/sec: 8.0875\n",
      "INFO:tensorflow:loss = 0.11229, step = 76201 (12.367 sec)\n",
      "INFO:tensorflow:global_step/sec: 8.24939\n",
      "INFO:tensorflow:loss = 0.348018, step = 76301 (12.127 sec)\n",
      "INFO:tensorflow:global_step/sec: 8.35475\n",
      "INFO:tensorflow:loss = 4.61195, step = 76401 (11.965 sec)\n",
      "INFO:tensorflow:global_step/sec: 8.43015\n",
      "INFO:tensorflow:loss = 0.193708, step = 76501 (11.861 sec)\n",
      "INFO:tensorflow:global_step/sec: 8.58875\n",
      "INFO:tensorflow:loss = 7.10081, step = 76601 (11.642 sec)\n",
      "INFO:tensorflow:global_step/sec: 8.52106\n",
      "INFO:tensorflow:loss = 0.519974, step = 76701 (11.736 sec)\n",
      "INFO:tensorflow:global_step/sec: 8.49889\n",
      "INFO:tensorflow:loss = 0.153819, step = 76801 (11.766 sec)\n",
      "INFO:tensorflow:global_step/sec: 8.46639\n",
      "INFO:tensorflow:loss = 0.0807009, step = 76901 (11.812 sec)\n",
      "INFO:tensorflow:global_step/sec: 8.35149\n",
      "INFO:tensorflow:loss = 0.225545, step = 77001 (11.974 sec)\n",
      "INFO:tensorflow:global_step/sec: 8.37491\n",
      "INFO:tensorflow:loss = 0.149324, step = 77101 (11.947 sec)\n",
      "INFO:tensorflow:global_step/sec: 8.35968\n",
      "INFO:tensorflow:loss = 0.0354266, step = 77201 (11.957 sec)\n",
      "INFO:tensorflow:global_step/sec: 8.22672\n",
      "INFO:tensorflow:loss = 0.994573, step = 77301 (12.154 sec)\n",
      "INFO:tensorflow:global_step/sec: 8.24364\n",
      "INFO:tensorflow:loss = 0.0561362, step = 77401 (12.134 sec)\n",
      "INFO:tensorflow:global_step/sec: 8.62052\n",
      "INFO:tensorflow:loss = 3.05748, step = 77501 (11.600 sec)\n",
      "INFO:tensorflow:global_step/sec: 8.51596\n",
      "INFO:tensorflow:loss = 0.357902, step = 77601 (11.739 sec)\n",
      "INFO:tensorflow:global_step/sec: 8.54841\n",
      "INFO:tensorflow:loss = 0.186432, step = 77701 (11.700 sec)\n",
      "INFO:tensorflow:global_step/sec: 8.40109\n",
      "INFO:tensorflow:loss = 3.00228, step = 77801 (11.902 sec)\n",
      "INFO:tensorflow:global_step/sec: 8.29918\n",
      "INFO:tensorflow:loss = 3.55661, step = 77901 (12.049 sec)\n",
      "INFO:tensorflow:global_step/sec: 8.26476\n",
      "INFO:tensorflow:loss = 0.646581, step = 78001 (12.100 sec)\n",
      "INFO:tensorflow:global_step/sec: 8.34191\n",
      "INFO:tensorflow:loss = 0.0992897, step = 78101 (11.989 sec)\n",
      "INFO:tensorflow:global_step/sec: 8.39816\n",
      "INFO:tensorflow:loss = 0.206689, step = 78201 (11.905 sec)\n",
      "INFO:tensorflow:global_step/sec: 8.41938\n",
      "INFO:tensorflow:loss = 0.875715, step = 78301 (11.878 sec)\n",
      "INFO:tensorflow:global_step/sec: 8.54915\n",
      "INFO:tensorflow:loss = 0.0456346, step = 78401 (11.696 sec)\n",
      "INFO:tensorflow:global_step/sec: 8.3555\n",
      "INFO:tensorflow:loss = 0.209353, step = 78501 (11.969 sec)\n",
      "INFO:tensorflow:global_step/sec: 8.4002\n",
      "INFO:tensorflow:loss = 5.327, step = 78601 (11.905 sec)\n"
     ]
    }
   ],
   "source": [
    "import tensorflow as tf\n",
    "import numpy as np\n",
    "import os\n",
    "import random\n",
    "from numpy import array\n",
    "\n",
    "from skimage.io import imread, imsave\n",
    "from skimage.color import rgb2gray\n",
    "from skimage.transform import resize\n",
    "\n",
    "IMAGE_SIZE = 64\n",
    "FULL_CHARSET_SIZE = 3755\n",
    "CHARSET_SIZE = 37\n",
    "\n",
    "def input(dataset):\n",
    "    return dataset.images, dataset.labels\n",
    "\n",
    "class DataSetLoader:\n",
    "    def __init__(self, data_dir):\n",
    "        # Set CHARSET_SIZE to a small value if available computation power is limited.\n",
    "        truncate_path = data_dir + ('%05d' % CHARSET_SIZE)\n",
    "        print('Now processing path: ', truncate_path)\n",
    "        image_names = []\n",
    "        for root, sub_folder, file_list in os.walk(data_dir):\n",
    "            if root < truncate_path:\n",
    "                image_names += [os.path.join(root, file_path) for file_path in file_list]\n",
    "        random.shuffle(image_names)\n",
    "        self.labels = [int(file_name[len(data_dir):].split(os.sep)[0]) for file_name in image_names]\n",
    "        images_rgb = [imread(file_name) for file_name in image_names]\n",
    "        image_resized = [resize(image, (IMAGE_SIZE, IMAGE_SIZE)) for image in images_rgb]\n",
    "        self.images = [rgb2gray(item) for item in image_resized]\n",
    "        \n",
    "        # convert list to numpy array\n",
    "        self.images = array(self.images)\n",
    "        self.labels = array(self.labels)\n",
    "    \n",
    "train_data = DataSetLoader(data_dir='../data/train_/')\n",
    "print ('Train data loaded.')\n",
    "\n",
    "# Specify feature\n",
    "feature_columns = [tf.feature_column.numeric_column(\"x\", shape=[IMAGE_SIZE, IMAGE_SIZE])]\n",
    "\n",
    "# Build 2 layer DNN classifier\n",
    "classifier = tf.estimator.DNNClassifier(\n",
    "    feature_columns=feature_columns,\n",
    "    hidden_units=[1024, 1024, 1024, 1024, 1024],\n",
    "    optimizer=tf.train.AdamOptimizer(1e-4),\n",
    "    n_classes=CHARSET_SIZE,\n",
    "    dropout=0.1,\n",
    "    model_dir=\"../dfs/checkpoint/dnn7_model_a\"\n",
    ")\n",
    "\n",
    "# Define the training inputs\n",
    "train_input_fn = tf.estimator.inputs.numpy_input_fn(\n",
    "    x={\"x\": input(train_data)[0]},\n",
    "    y=input(train_data)[1],\n",
    "    num_epochs=None,\n",
    "    batch_size=50,\n",
    "    shuffle=True\n",
    ")\n",
    "\n",
    "classifier.train(input_fn=train_input_fn, steps=200000)\n",
    "print ('Train done, begin to test ...')\n",
    "test_data = DataSetLoader(data_dir='../data/test_/')\n",
    "# Define the test inputs\n",
    "test_input_fn = tf.estimator.inputs.numpy_input_fn(\n",
    "    x={\"x\": input(test_data)[0]},\n",
    "    y=input(test_data)[1],\n",
    "    num_epochs=1,\n",
    "    shuffle=False\n",
    ")\n",
    "\n",
    "# Evaluate accuracy\n",
    "accuracy_score = classifier.evaluate(input_fn=test_input_fn)[\"accuracy\"]\n",
    "print(\"\\nTest Accuracy: {0:f}%\\n\".format(accuracy_score*100))"
   ]
  },
  {
   "cell_type": "markdown",
   "metadata": {},
   "source": [
    "上面还真好使：\n",
    "INFO:tensorflow:Restoring parameters from ../dfs/checkpoint/dnn5_model/model.ckpt-20000\n",
    "INFO:tensorflow:Saving checkpoints for 20001 into ../dfs/checkpoint/dnn5_model/model.ckpt.\n",
    "INFO:tensorflow:loss = 5.79399, step = 20001\n",
    "\n",
    "从上次的20000步开始。从这里看来，即前使用浏览器训练时没有了响应，后台也是保存了的。就是前台失去了联系。\n",
    "下面我们做点有趣的：手工观察测试情况。参考https://colab.research.google.com/drive/1eSVbFPcHHt1BbSKwzdclRDeLIIx_5ZOR#scrollTo=JkbP89CJd1bC （linear-regression-D.ipynb）"
   ]
  },
  {
   "cell_type": "code",
   "execution_count": 1,
   "metadata": {},
   "outputs": [
    {
     "name": "stdout",
     "output_type": "stream",
     "text": [
      "INFO:tensorflow:Using config: {'_task_type': None, '_task_id': 0, '_cluster_spec': <tensorflow.python.training.server_lib.ClusterSpec object at 0x7f78586387f0>, '_master': '', '_num_ps_replicas': 0, '_num_worker_replicas': 0, '_environment': 'local', '_is_chief': True, '_evaluation_master': '', '_tf_config': gpu_options {\n",
      "  per_process_gpu_memory_fraction: 1.0\n",
      "}\n",
      ", '_tf_random_seed': None, '_save_summary_steps': 100, '_save_checkpoints_secs': 600, '_log_step_count_steps': 100, '_session_config': None, '_save_checkpoints_steps': None, '_keep_checkpoint_max': 5, '_keep_checkpoint_every_n_hours': 10000, '_model_dir': '../dfs/checkpoint/dnn7_model_a'}\n",
      "Now processing path:  ../data/test_/00037\n",
      "INFO:tensorflow:Starting evaluation at 2018-04-21-02:13:37\n",
      "INFO:tensorflow:Restoring parameters from ../dfs/checkpoint/dnn7_model_a/model.ckpt-276100\n",
      "INFO:tensorflow:Finished evaluation at 2018-04-21-02:13:38\n",
      "INFO:tensorflow:Saving dict for global step 276100: accuracy = 0.814932, average_loss = 1.65238, global_step = 276100, loss = 202.876\n",
      "\n",
      "Test Accuracy: 81.493211%\n",
      "\n",
      "INFO:tensorflow:Restoring parameters from ../dfs/checkpoint/dnn7_model_a/model.ckpt-276100\n"
     ]
    },
    {
     "data": {
      "text/plain": [
       "<matplotlib.figure.Figure at 0x7f77eb878908>"
      ]
     },
     "metadata": {},
     "output_type": "display_data"
    },
    {
     "name": "stdout",
     "output_type": "stream",
     "text": [
      "Prediction label is:  19\n",
      "Real label is: 19\n"
     ]
    },
    {
     "data": {
      "text/plain": [
       "<matplotlib.figure.Figure at 0x7f77dc7e1780>"
      ]
     },
     "metadata": {},
     "output_type": "display_data"
    },
    {
     "name": "stdout",
     "output_type": "stream",
     "text": [
      "Prediction label is:  26\n",
      "Real label is: 26\n"
     ]
    },
    {
     "data": {
      "text/plain": [
       "<matplotlib.figure.Figure at 0x7f77dc703ac8>"
      ]
     },
     "metadata": {},
     "output_type": "display_data"
    },
    {
     "name": "stdout",
     "output_type": "stream",
     "text": [
      "Prediction label is:  0\n",
      "Real label is: 0\n"
     ]
    },
    {
     "data": {
      "text/plain": [
       "<matplotlib.figure.Figure at 0x7f77dc6f3710>"
      ]
     },
     "metadata": {},
     "output_type": "display_data"
    },
    {
     "name": "stdout",
     "output_type": "stream",
     "text": [
      "Prediction label is:  20\n",
      "Real label is: 20\n"
     ]
    },
    {
     "data": {
      "text/plain": [
       "<matplotlib.figure.Figure at 0x7f77dc6625f8>"
      ]
     },
     "metadata": {},
     "output_type": "display_data"
    },
    {
     "name": "stdout",
     "output_type": "stream",
     "text": [
      "Prediction label is:  19\n",
      "Real label is: 17\n"
     ]
    },
    {
     "data": {
      "text/plain": [
       "<matplotlib.figure.Figure at 0x7f77d4791400>"
      ]
     },
     "metadata": {},
     "output_type": "display_data"
    },
    {
     "name": "stdout",
     "output_type": "stream",
     "text": [
      "Prediction label is:  26\n",
      "Real label is: 22\n"
     ]
    },
    {
     "data": {
      "text/plain": [
       "<matplotlib.figure.Figure at 0x7f77d47d3a90>"
      ]
     },
     "metadata": {},
     "output_type": "display_data"
    },
    {
     "name": "stdout",
     "output_type": "stream",
     "text": [
      "Prediction label is:  13\n",
      "Real label is: 13\n"
     ]
    },
    {
     "data": {
      "text/plain": [
       "<matplotlib.figure.Figure at 0x7f77ed0d47f0>"
      ]
     },
     "metadata": {},
     "output_type": "display_data"
    },
    {
     "name": "stdout",
     "output_type": "stream",
     "text": [
      "Prediction label is:  25\n",
      "Real label is: 8\n"
     ]
    },
    {
     "data": {
      "text/plain": [
       "<matplotlib.figure.Figure at 0x7f77f1ab2ac8>"
      ]
     },
     "metadata": {},
     "output_type": "display_data"
    },
    {
     "name": "stdout",
     "output_type": "stream",
     "text": [
      "Prediction label is:  0\n",
      "Real label is: 0\n"
     ]
    },
    {
     "data": {
      "text/plain": [
       "<matplotlib.figure.Figure at 0x7f77fb308ef0>"
      ]
     },
     "metadata": {},
     "output_type": "display_data"
    },
    {
     "name": "stdout",
     "output_type": "stream",
     "text": [
      "Prediction label is:  17\n",
      "Real label is: 17\n"
     ]
    },
    {
     "data": {
      "text/plain": [
       "<matplotlib.figure.Figure at 0x7f77eb548d68>"
      ]
     },
     "metadata": {},
     "output_type": "display_data"
    },
    {
     "name": "stdout",
     "output_type": "stream",
     "text": [
      "Prediction label is:  7\n",
      "Real label is: 7\n"
     ]
    },
    {
     "data": {
      "text/plain": [
       "<matplotlib.figure.Figure at 0x7f77dc664ba8>"
      ]
     },
     "metadata": {},
     "output_type": "display_data"
    },
    {
     "name": "stdout",
     "output_type": "stream",
     "text": [
      "Prediction label is:  8\n",
      "Real label is: 8\n"
     ]
    },
    {
     "data": {
      "text/plain": [
       "<matplotlib.figure.Figure at 0x7f77ed20a9e8>"
      ]
     },
     "metadata": {},
     "output_type": "display_data"
    },
    {
     "name": "stdout",
     "output_type": "stream",
     "text": [
      "Prediction label is:  4\n",
      "Real label is: 4\n"
     ]
    },
    {
     "data": {
      "text/plain": [
       "<matplotlib.figure.Figure at 0x7f77d4758828>"
      ]
     },
     "metadata": {},
     "output_type": "display_data"
    },
    {
     "name": "stdout",
     "output_type": "stream",
     "text": [
      "Prediction label is:  0\n",
      "Real label is: 0\n"
     ]
    },
    {
     "data": {
      "text/plain": [
       "<matplotlib.figure.Figure at 0x7f77ed26a668>"
      ]
     },
     "metadata": {},
     "output_type": "display_data"
    },
    {
     "name": "stdout",
     "output_type": "stream",
     "text": [
      "Prediction label is:  16\n",
      "Real label is: 16\n"
     ]
    },
    {
     "data": {
      "text/plain": [
       "<matplotlib.figure.Figure at 0x7f77ed0ac390>"
      ]
     },
     "metadata": {},
     "output_type": "display_data"
    },
    {
     "name": "stdout",
     "output_type": "stream",
     "text": [
      "Prediction label is:  23\n",
      "Real label is: 23\n"
     ]
    },
    {
     "data": {
      "text/plain": [
       "<matplotlib.figure.Figure at 0x7f77ed399278>"
      ]
     },
     "metadata": {},
     "output_type": "display_data"
    },
    {
     "name": "stdout",
     "output_type": "stream",
     "text": [
      "Prediction label is:  4\n",
      "Real label is: 23\n"
     ]
    },
    {
     "data": {
      "text/plain": [
       "<matplotlib.figure.Figure at 0x7f77ed33c128>"
      ]
     },
     "metadata": {},
     "output_type": "display_data"
    },
    {
     "name": "stdout",
     "output_type": "stream",
     "text": [
      "Prediction label is:  36\n",
      "Real label is: 36\n"
     ]
    },
    {
     "data": {
      "text/plain": [
       "<matplotlib.figure.Figure at 0x7f77ed2e3e10>"
      ]
     },
     "metadata": {},
     "output_type": "display_data"
    },
    {
     "name": "stdout",
     "output_type": "stream",
     "text": [
      "Prediction label is:  23\n",
      "Real label is: 23\n"
     ]
    },
    {
     "data": {
      "text/plain": [
       "<matplotlib.figure.Figure at 0x7f77ed150f98>"
      ]
     },
     "metadata": {},
     "output_type": "display_data"
    },
    {
     "name": "stdout",
     "output_type": "stream",
     "text": [
      "Prediction label is:  20\n",
      "Real label is: 20\n"
     ]
    },
    {
     "data": {
      "text/plain": [
       "<matplotlib.figure.Figure at 0x7f77ed43a978>"
      ]
     },
     "metadata": {},
     "output_type": "display_data"
    },
    {
     "name": "stdout",
     "output_type": "stream",
     "text": [
      "Prediction label is:  16\n",
      "Real label is: 16\n"
     ]
    },
    {
     "data": {
      "text/plain": [
       "<matplotlib.figure.Figure at 0x7f77eb6e56a0>"
      ]
     },
     "metadata": {},
     "output_type": "display_data"
    },
    {
     "name": "stdout",
     "output_type": "stream",
     "text": [
      "Prediction label is:  7\n",
      "Real label is: 3\n"
     ]
    },
    {
     "data": {
      "text/plain": [
       "<matplotlib.figure.Figure at 0x7f77eb6e6e48>"
      ]
     },
     "metadata": {},
     "output_type": "display_data"
    },
    {
     "name": "stdout",
     "output_type": "stream",
     "text": [
      "Prediction label is:  12\n",
      "Real label is: 12\n"
     ]
    },
    {
     "data": {
      "text/plain": [
       "<matplotlib.figure.Figure at 0x7f77eb555d68>"
      ]
     },
     "metadata": {},
     "output_type": "display_data"
    },
    {
     "name": "stdout",
     "output_type": "stream",
     "text": [
      "Prediction label is:  28\n",
      "Real label is: 26\n"
     ]
    },
    {
     "data": {
      "text/plain": [
       "<matplotlib.figure.Figure at 0x7f77ed3b7b70>"
      ]
     },
     "metadata": {},
     "output_type": "display_data"
    },
    {
     "name": "stdout",
     "output_type": "stream",
     "text": [
      "Prediction label is:  28\n",
      "Real label is: 28\n"
     ]
    },
    {
     "data": {
      "text/plain": [
       "<matplotlib.figure.Figure at 0x7f77ed1699b0>"
      ]
     },
     "metadata": {},
     "output_type": "display_data"
    },
    {
     "name": "stdout",
     "output_type": "stream",
     "text": [
      "Prediction label is:  24\n",
      "Real label is: 26\n"
     ]
    },
    {
     "data": {
      "text/plain": [
       "<matplotlib.figure.Figure at 0x7f77dc759780>"
      ]
     },
     "metadata": {},
     "output_type": "display_data"
    },
    {
     "name": "stdout",
     "output_type": "stream",
     "text": [
      "Prediction label is:  1\n",
      "Real label is: 7\n"
     ]
    },
    {
     "data": {
      "text/plain": [
       "<matplotlib.figure.Figure at 0x7f77ed3292e8>"
      ]
     },
     "metadata": {},
     "output_type": "display_data"
    },
    {
     "name": "stdout",
     "output_type": "stream",
     "text": [
      "Prediction label is:  9\n",
      "Real label is: 9\n"
     ]
    },
    {
     "data": {
      "text/plain": [
       "<matplotlib.figure.Figure at 0x7f77ed242390>"
      ]
     },
     "metadata": {},
     "output_type": "display_data"
    },
    {
     "name": "stdout",
     "output_type": "stream",
     "text": [
      "Prediction label is:  34\n",
      "Real label is: 34\n"
     ]
    },
    {
     "data": {
      "text/plain": [
       "<matplotlib.figure.Figure at 0x7f77ed35f278>"
      ]
     },
     "metadata": {},
     "output_type": "display_data"
    },
    {
     "name": "stdout",
     "output_type": "stream",
     "text": [
      "Prediction label is:  23\n",
      "Real label is: 11\n"
     ]
    },
    {
     "data": {
      "text/plain": [
       "<matplotlib.figure.Figure at 0x7f77ed35f240>"
      ]
     },
     "metadata": {},
     "output_type": "display_data"
    },
    {
     "name": "stdout",
     "output_type": "stream",
     "text": [
      "Prediction label is:  14\n",
      "Real label is: 14\n"
     ]
    },
    {
     "data": {
      "text/plain": [
       "<matplotlib.figure.Figure at 0x7f77ed5019b0>"
      ]
     },
     "metadata": {},
     "output_type": "display_data"
    },
    {
     "name": "stdout",
     "output_type": "stream",
     "text": [
      "Prediction label is:  10\n",
      "Real label is: 10\n"
     ]
    },
    {
     "data": {
      "text/plain": [
       "<matplotlib.figure.Figure at 0x7f77ed364438>"
      ]
     },
     "metadata": {},
     "output_type": "display_data"
    },
    {
     "name": "stdout",
     "output_type": "stream",
     "text": [
      "Prediction label is:  15\n",
      "Real label is: 15\n"
     ]
    },
    {
     "data": {
      "text/plain": [
       "<matplotlib.figure.Figure at 0x7f77ed3648d0>"
      ]
     },
     "metadata": {},
     "output_type": "display_data"
    },
    {
     "name": "stdout",
     "output_type": "stream",
     "text": [
      "Prediction label is:  26\n",
      "Real label is: 26\n"
     ]
    },
    {
     "data": {
      "text/plain": [
       "<matplotlib.figure.Figure at 0x7f77fb2eba20>"
      ]
     },
     "metadata": {},
     "output_type": "display_data"
    },
    {
     "name": "stdout",
     "output_type": "stream",
     "text": [
      "Prediction label is:  24\n",
      "Real label is: 17\n"
     ]
    },
    {
     "data": {
      "text/plain": [
       "<matplotlib.figure.Figure at 0x7f77fb319320>"
      ]
     },
     "metadata": {},
     "output_type": "display_data"
    },
    {
     "name": "stdout",
     "output_type": "stream",
     "text": [
      "Prediction label is:  15\n",
      "Real label is: 15\n"
     ]
    },
    {
     "data": {
      "text/plain": [
       "<matplotlib.figure.Figure at 0x7f77eb66eb70>"
      ]
     },
     "metadata": {},
     "output_type": "display_data"
    },
    {
     "name": "stdout",
     "output_type": "stream",
     "text": [
      "Prediction label is:  6\n",
      "Real label is: 2\n"
     ]
    }
   ],
   "source": [
    "# from: https://www.kaggle.com/jeffcarp/example-save-and-load-a-tensorflow-model\n",
    "\n",
    "import tensorflow as tf\n",
    "import numpy as np\n",
    "import os\n",
    "import random\n",
    "from numpy import array\n",
    "\n",
    "from skimage.io import imread, imsave\n",
    "from skimage.color import rgb2gray\n",
    "from skimage.transform import resize\n",
    "\n",
    "from tensorflow.contrib.learn.python.learn.estimators import run_config\n",
    "from tensorflow.contrib.training.python.training import hparam\n",
    "\n",
    "IMAGE_SIZE = 64\n",
    "# CHARSET_SIZE = 3755\n",
    "CHARSET_SIZE = 37\n",
    "\n",
    "def input(dataset):\n",
    "    return dataset.images, dataset.labels\n",
    "\n",
    "class DataSetLoader:\n",
    "    def __init__(self, data_dir):\n",
    "        # Set CHARSET_SIZE to a small value if available computation power is limited.\n",
    "        truncate_path = data_dir + ('%05d' % CHARSET_SIZE)\n",
    "        print('Now processing path: ', truncate_path)\n",
    "        image_names = []\n",
    "        for root, sub_folder, file_list in os.walk(data_dir):\n",
    "            if root < truncate_path:\n",
    "                image_names += [os.path.join(root, file_path) for file_path in file_list]\n",
    "        random.shuffle(image_names)\n",
    "        self.labels = [int(file_name[len(data_dir):].split(os.sep)[0]) for file_name in image_names]\n",
    "        images_rgb = [imread(file_name) for file_name in image_names]\n",
    "        image_resized = [resize(image, (IMAGE_SIZE, IMAGE_SIZE)) for image in images_rgb]\n",
    "        self.images = [rgb2gray(item) for item in image_resized]\n",
    "        \n",
    "        # convert list to numpy array\n",
    "        self.images = array(self.images)\n",
    "        self.labels = array(self.labels)\n",
    "\n",
    "# Specify feature\n",
    "feature_columns = [tf.feature_column.numeric_column(\"x\", shape=[IMAGE_SIZE, IMAGE_SIZE])]\n",
    "\n",
    "def make_estimator(model_dir):\n",
    "    config = run_config.RunConfig(model_dir=model_dir)\n",
    "\n",
    "    return tf.estimator.DNNClassifier (\n",
    "        config=config,\n",
    "        feature_columns=feature_columns,\n",
    "        hidden_units=[1024, 1024, 1024, 1024, 1024],\n",
    "        optimizer=tf.train.AdamOptimizer(1e-4),\n",
    "        n_classes=CHARSET_SIZE,\n",
    "        dropout=0.1\n",
    "    )\n",
    "\n",
    "MODEL_DIR = \"../dfs/checkpoint/dnn7_model_a\"\n",
    "model_from_checkpoint = make_estimator(MODEL_DIR)\n",
    "\n",
    "test_data = DataSetLoader(data_dir='../data/test_/')\n",
    "# Define the test inputs\n",
    "test_input_fn = tf.estimator.inputs.numpy_input_fn(\n",
    "    x={\"x\": input(test_data)[0]},\n",
    "    y=input(test_data)[1],\n",
    "    num_epochs=1,\n",
    "    shuffle=False\n",
    ")\n",
    "\n",
    "predict_input_fn = tf.estimator.inputs.numpy_input_fn(\n",
    "    x={\"x\": input(test_data)[0]},\n",
    "    num_epochs=1,\n",
    "    shuffle=False)\n",
    "\n",
    "# Evaluate accuracy\n",
    "accuracy_score = model_from_checkpoint.evaluate(input_fn=test_input_fn)[\"accuracy\"]\n",
    "print(\"\\nTest Accuracy: {0:f}%\\n\".format(accuracy_score*100))\n",
    "\n",
    "# manually test\n",
    "predictions = list(model_from_checkpoint.predict(input_fn=predict_input_fn))\n",
    "predictions_value_array = list(predictions)\n",
    "\n",
    "import matplotlib.pyplot as plt\n",
    "\n",
    "def test_n_hanzi(predictions_values, index):\n",
    "    # Show the image of the input data\n",
    "    image_data_array = test_data.images[index]\n",
    "    image_data = image_data_array.reshape((IMAGE_SIZE, IMAGE_SIZE))\n",
    "    plt.imshow(image_data)\n",
    "    plt.show()\n",
    "    \n",
    "    # show the prediction result\n",
    "    print ('Prediction label is: ', np.argmax(predictions_values[index][\"probabilities\"]))\n",
    "    \n",
    "    # Show the lable\n",
    "    print (\"Real label is: %d\"%(test_data.labels[index]))\n",
    "\n",
    "for i in range(37):\n",
    "    test_n_hanzi(predictions_value_array, i)    "
   ]
  },
  {
   "cell_type": "code",
   "execution_count": null,
   "metadata": {},
   "outputs": [],
   "source": []
  }
 ],
 "metadata": {
  "kernelspec": {
   "display_name": "Python 3",
   "language": "python",
   "name": "python3"
  },
  "language_info": {
   "codemirror_mode": {
    "name": "ipython",
    "version": 3
   },
   "file_extension": ".py",
   "mimetype": "text/x-python",
   "name": "python",
   "nbconvert_exporter": "python",
   "pygments_lexer": "ipython3",
   "version": "3.6.3"
  }
 },
 "nbformat": 4,
 "nbformat_minor": 1
}
