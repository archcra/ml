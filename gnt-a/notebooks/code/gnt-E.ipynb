{
 "cells": [
  {
   "cell_type": "markdown",
   "metadata": {},
   "source": [
    "前面的D，我们学习了37个手写汉字。虽然调整了那个Nerual network的DNN参数，将它们设置为了一样，但是，精度达到80%左右时，就不再提高了。即使后来训练了20多万次，也没什么提高。目前考虑有3种解决方案：\n",
    "1. 加入validation data (从train中取，还是从test中取？）\n",
    "2. 对输入的train 数据进行预处理，做翻转、左右、上下平移处理。（加上亮度、透明度处理？）\n",
    "3. 将DNN改为CNN\n",
    "\n",
    "理论上讲，应该加上validation。这就象学习后，加入一些小考，然后才是大考。干学不校正，是有问题的。很容易发生过拟合，变成书呆子，适应不了test数据。\n",
    "\n",
    "在这之前，我们先再尝试修改一下DNN参数，看能否有所改进。\n",
    "下面第一个模型，参考这里：\n",
    "https://www.kaggle.com/matlihan/dnn-with-tensorflow-s-dataset-api-and-estimator\n",
    "\n",
    "```\n",
    "classifier = tf.estimator.DNNClassifier(\n",
    "    feature_columns=feature_columns, # The input features to our model\n",
    "    hidden_units=[2048, 1024, 512, 256, 128], # 5 layers\n",
    "    n_classes=2, # survived or not {1, 0}\n",
    "    model_dir=save_dir, # Path to where checkpoints etc are stored\n",
    "    optimizer=tf.train.RMSPropOptimizer(\n",
    "        learning_rate=0.00001),\n",
    "    dropout=0.1)\n",
    "\n",
    "\n",
    "```"
   ]
  },
  {
   "cell_type": "code",
   "execution_count": null,
   "metadata": {},
   "outputs": [
    {
     "name": "stdout",
     "output_type": "stream",
     "text": [
      "Now processing path:  ../data/train_/00037\n",
      "Train data loaded.\n",
      "INFO:tensorflow:Using default config.\n",
      "INFO:tensorflow:Using config: {'_model_dir': '../dfs/checkpoint/dnn8_model_a', '_tf_random_seed': 1, '_save_summary_steps': 100, '_save_checkpoints_secs': 600, '_save_checkpoints_steps': None, '_session_config': None, '_keep_checkpoint_max': 5, '_keep_checkpoint_every_n_hours': 10000, '_log_step_count_steps': 100}\n",
      "INFO:tensorflow:Create CheckpointSaverHook.\n",
      "INFO:tensorflow:Restoring parameters from ../dfs/checkpoint/dnn8_model_a/model.ckpt-4775\n",
      "INFO:tensorflow:Saving checkpoints for 4776 into ../dfs/checkpoint/dnn8_model_a/model.ckpt.\n",
      "INFO:tensorflow:loss = 30.7159, step = 4776\n",
      "INFO:tensorflow:global_step/sec: 1.39745\n",
      "INFO:tensorflow:loss = 43.1692, step = 4876 (71.561 sec)\n",
      "INFO:tensorflow:global_step/sec: 1.35881\n",
      "INFO:tensorflow:loss = 18.1233, step = 4976 (73.594 sec)\n",
      "INFO:tensorflow:global_step/sec: 1.2834\n",
      "INFO:tensorflow:loss = 32.5457, step = 5076 (77.918 sec)\n",
      "INFO:tensorflow:global_step/sec: 1.33929\n",
      "INFO:tensorflow:loss = 20.534, step = 5176 (74.666 sec)\n",
      "INFO:tensorflow:global_step/sec: 1.49408\n",
      "INFO:tensorflow:loss = 13.6797, step = 5276 (66.930 sec)\n",
      "INFO:tensorflow:global_step/sec: 1.33094\n",
      "INFO:tensorflow:loss = 28.601, step = 5376 (75.135 sec)\n",
      "INFO:tensorflow:global_step/sec: 1.33536\n",
      "INFO:tensorflow:loss = 17.4464, step = 5476 (74.886 sec)\n",
      "INFO:tensorflow:global_step/sec: 1.42847\n",
      "INFO:tensorflow:loss = 15.4062, step = 5576 (70.006 sec)\n",
      "INFO:tensorflow:Saving checkpoints for 5577 into ../dfs/checkpoint/dnn8_model_a/model.ckpt.\n",
      "INFO:tensorflow:global_step/sec: 1.17415\n",
      "INFO:tensorflow:loss = 24.3354, step = 5676 (85.167 sec)\n",
      "INFO:tensorflow:global_step/sec: 1.36999\n",
      "INFO:tensorflow:loss = 14.4198, step = 5776 (72.994 sec)\n",
      "INFO:tensorflow:global_step/sec: 1.70321\n",
      "INFO:tensorflow:loss = 21.8745, step = 5876 (58.713 sec)\n",
      "INFO:tensorflow:global_step/sec: 1.69813\n",
      "INFO:tensorflow:loss = 20.6564, step = 5976 (58.888 sec)\n",
      "INFO:tensorflow:global_step/sec: 1.70561\n",
      "INFO:tensorflow:loss = 24.2108, step = 6076 (58.630 sec)\n",
      "INFO:tensorflow:global_step/sec: 1.55857\n",
      "INFO:tensorflow:loss = 34.7887, step = 6176 (64.161 sec)\n",
      "INFO:tensorflow:global_step/sec: 1.08638\n",
      "INFO:tensorflow:loss = 24.8294, step = 6276 (92.049 sec)\n",
      "INFO:tensorflow:global_step/sec: 1.04375\n",
      "INFO:tensorflow:loss = 7.76467, step = 6376 (95.813 sec)\n",
      "INFO:tensorflow:Saving checkpoints for 6392 into ../dfs/checkpoint/dnn8_model_a/model.ckpt.\n",
      "INFO:tensorflow:global_step/sec: 0.976667\n",
      "INFO:tensorflow:loss = 11.8566, step = 6476 (102.385 sec)\n",
      "INFO:tensorflow:global_step/sec: 1.29858\n",
      "INFO:tensorflow:loss = 25.8918, step = 6576 (77.007 sec)\n",
      "INFO:tensorflow:global_step/sec: 1.03603\n",
      "INFO:tensorflow:loss = 15.089, step = 6676 (96.523 sec)\n",
      "INFO:tensorflow:global_step/sec: 1.03281\n",
      "INFO:tensorflow:loss = 12.9817, step = 6776 (96.824 sec)\n",
      "INFO:tensorflow:global_step/sec: 1.30389\n",
      "INFO:tensorflow:loss = 16.6751, step = 6876 (76.692 sec)\n",
      "INFO:tensorflow:Saving checkpoints for 7063 into ../dfs/checkpoint/dnn8_model_a/model.ckpt.\n",
      "INFO:tensorflow:global_step/sec: 0.868953\n",
      "INFO:tensorflow:loss = 26.7022, step = 7076 (115.080 sec)\n",
      "INFO:tensorflow:global_step/sec: 1.11711\n",
      "INFO:tensorflow:loss = 10.8753, step = 7176 (89.517 sec)\n",
      "INFO:tensorflow:global_step/sec: 1.43373\n",
      "INFO:tensorflow:loss = 16.068, step = 7276 (69.748 sec)\n",
      "INFO:tensorflow:global_step/sec: 1.04322\n",
      "INFO:tensorflow:loss = 13.2405, step = 7376 (95.857 sec)\n",
      "INFO:tensorflow:global_step/sec: 1.03536\n",
      "INFO:tensorflow:loss = 9.8367, step = 7476 (96.585 sec)\n",
      "INFO:tensorflow:global_step/sec: 1.18172\n",
      "INFO:tensorflow:loss = 16.1332, step = 7576 (84.623 sec)\n",
      "INFO:tensorflow:global_step/sec: 1.337\n",
      "INFO:tensorflow:loss = 6.71633, step = 7676 (74.795 sec)\n",
      "INFO:tensorflow:Saving checkpoints for 7736 into ../dfs/checkpoint/dnn8_model_a/model.ckpt.\n",
      "INFO:tensorflow:global_step/sec: 0.870699\n",
      "INFO:tensorflow:loss = 7.68406, step = 7776 (114.849 sec)\n",
      "INFO:tensorflow:global_step/sec: 1.05502\n",
      "INFO:tensorflow:loss = 14.679, step = 7876 (94.787 sec)\n",
      "INFO:tensorflow:global_step/sec: 1.41221\n",
      "INFO:tensorflow:loss = 13.8455, step = 7976 (70.809 sec)\n",
      "INFO:tensorflow:global_step/sec: 1.06292\n",
      "INFO:tensorflow:loss = 5.919, step = 8076 (94.082 sec)\n",
      "INFO:tensorflow:global_step/sec: 1.03813\n",
      "INFO:tensorflow:loss = 17.1747, step = 8176 (96.327 sec)\n",
      "INFO:tensorflow:global_step/sec: 1.11034\n",
      "INFO:tensorflow:loss = 5.35707, step = 8276 (90.061 sec)\n",
      "INFO:tensorflow:global_step/sec: 1.42325\n",
      "INFO:tensorflow:loss = 8.41722, step = 8376 (70.262 sec)\n",
      "INFO:tensorflow:Saving checkpoints for 8405 into ../dfs/checkpoint/dnn8_model_a/model.ckpt.\n",
      "INFO:tensorflow:global_step/sec: 0.87083\n",
      "INFO:tensorflow:loss = 5.11826, step = 8476 (114.833 sec)\n",
      "INFO:tensorflow:global_step/sec: 1.03021\n",
      "INFO:tensorflow:loss = 10.3664, step = 8576 (97.070 sec)\n",
      "INFO:tensorflow:global_step/sec: 1.32386\n",
      "INFO:tensorflow:loss = 8.53412, step = 8676 (75.534 sec)\n",
      "INFO:tensorflow:global_step/sec: 1.14262\n",
      "INFO:tensorflow:loss = 5.05143, step = 8776 (87.519 sec)\n",
      "INFO:tensorflow:global_step/sec: 1.04043\n",
      "INFO:tensorflow:loss = 7.53245, step = 8876 (96.115 sec)\n",
      "INFO:tensorflow:global_step/sec: 1.06356\n",
      "INFO:tensorflow:loss = 6.70234, step = 8976 (94.021 sec)\n",
      "INFO:tensorflow:Saving checkpoints for 9066 into ../dfs/checkpoint/dnn8_model_a/model.ckpt.\n",
      "INFO:tensorflow:global_step/sec: 1.13317\n",
      "INFO:tensorflow:loss = 3.28385, step = 9076 (88.249 sec)\n",
      "INFO:tensorflow:global_step/sec: 1.06054\n",
      "INFO:tensorflow:loss = 14.4779, step = 9176 (94.291 sec)\n",
      "INFO:tensorflow:global_step/sec: 1.05369\n",
      "INFO:tensorflow:loss = 6.66554, step = 9276 (94.905 sec)\n",
      "INFO:tensorflow:global_step/sec: 1.24595\n",
      "INFO:tensorflow:loss = 4.71727, step = 9376 (80.259 sec)\n",
      "INFO:tensorflow:global_step/sec: 1.26756\n",
      "INFO:tensorflow:loss = 2.26384, step = 9476 (78.892 sec)\n",
      "INFO:tensorflow:global_step/sec: 1.05967\n",
      "INFO:tensorflow:loss = 3.18689, step = 9576 (94.370 sec)\n",
      "INFO:tensorflow:global_step/sec: 1.05682\n",
      "INFO:tensorflow:loss = 13.0754, step = 9676 (94.623 sec)\n",
      "INFO:tensorflow:Saving checkpoints for 9719 into ../dfs/checkpoint/dnn8_model_a/model.ckpt.\n",
      "INFO:tensorflow:global_step/sec: 1.13222\n",
      "INFO:tensorflow:loss = 14.4057, step = 9776 (88.321 sec)\n",
      "INFO:tensorflow:global_step/sec: 1.70595\n",
      "INFO:tensorflow:loss = 3.47969, step = 9876 (58.619 sec)\n",
      "INFO:tensorflow:global_step/sec: 1.72306\n",
      "INFO:tensorflow:loss = 1.32138, step = 9976 (58.037 sec)\n",
      "INFO:tensorflow:global_step/sec: 1.70446\n",
      "INFO:tensorflow:loss = 6.9916, step = 10076 (58.669 sec)\n",
      "INFO:tensorflow:global_step/sec: 1.70961\n",
      "INFO:tensorflow:loss = 4.8259, step = 10176 (58.494 sec)\n",
      "INFO:tensorflow:global_step/sec: 1.71234\n",
      "INFO:tensorflow:loss = 13.2784, step = 10276 (58.397 sec)\n",
      "INFO:tensorflow:global_step/sec: 1.71872\n",
      "INFO:tensorflow:loss = 2.8758, step = 10376 (58.183 sec)\n",
      "INFO:tensorflow:global_step/sec: 1.72195\n",
      "INFO:tensorflow:loss = 7.87761, step = 10476 (58.074 sec)\n",
      "INFO:tensorflow:global_step/sec: 1.69762\n",
      "INFO:tensorflow:loss = 4.09015, step = 10576 (58.906 sec)\n",
      "INFO:tensorflow:global_step/sec: 1.70866\n",
      "INFO:tensorflow:loss = 3.04397, step = 10676 (58.525 sec)\n",
      "INFO:tensorflow:Saving checkpoints for 10715 into ../dfs/checkpoint/dnn8_model_a/model.ckpt.\n",
      "INFO:tensorflow:global_step/sec: 1.37077\n",
      "INFO:tensorflow:loss = 6.33717, step = 10776 (72.952 sec)\n",
      "INFO:tensorflow:global_step/sec: 1.71149\n",
      "INFO:tensorflow:loss = 8.34166, step = 10876 (58.429 sec)\n",
      "INFO:tensorflow:global_step/sec: 1.70295\n",
      "INFO:tensorflow:loss = 6.87273, step = 10976 (58.722 sec)\n",
      "INFO:tensorflow:global_step/sec: 1.7105\n",
      "INFO:tensorflow:loss = 3.46629, step = 11076 (58.462 sec)\n",
      "INFO:tensorflow:global_step/sec: 1.70937\n",
      "INFO:tensorflow:loss = 9.52385, step = 11176 (58.501 sec)\n",
      "INFO:tensorflow:global_step/sec: 1.70602\n",
      "INFO:tensorflow:loss = 3.44215, step = 11276 (58.616 sec)\n",
      "INFO:tensorflow:global_step/sec: 1.69854\n",
      "INFO:tensorflow:loss = 1.01567, step = 11376 (58.874 sec)\n",
      "INFO:tensorflow:global_step/sec: 1.71296\n",
      "INFO:tensorflow:loss = 3.56633, step = 11476 (58.379 sec)\n",
      "INFO:tensorflow:global_step/sec: 1.67647\n",
      "INFO:tensorflow:loss = 8.3081, step = 11576 (59.649 sec)\n",
      "INFO:tensorflow:global_step/sec: 1.70275\n",
      "INFO:tensorflow:loss = 5.53592, step = 11676 (58.729 sec)\n",
      "INFO:tensorflow:Saving checkpoints for 11712 into ../dfs/checkpoint/dnn8_model_a/model.ckpt.\n",
      "INFO:tensorflow:global_step/sec: 1.3351\n"
     ]
    },
    {
     "name": "stdout",
     "output_type": "stream",
     "text": [
      "INFO:tensorflow:loss = 3.24962, step = 11776 (74.901 sec)\n",
      "INFO:tensorflow:global_step/sec: 1.71114\n",
      "INFO:tensorflow:loss = 13.1294, step = 11876 (58.440 sec)\n",
      "INFO:tensorflow:global_step/sec: 1.72111\n",
      "INFO:tensorflow:loss = 3.79784, step = 11976 (58.102 sec)\n",
      "INFO:tensorflow:global_step/sec: 1.70404\n",
      "INFO:tensorflow:loss = 2.05705, step = 12076 (58.684 sec)\n",
      "INFO:tensorflow:global_step/sec: 1.70842\n",
      "INFO:tensorflow:loss = 0.862311, step = 12176 (58.534 sec)\n",
      "INFO:tensorflow:global_step/sec: 1.71186\n",
      "INFO:tensorflow:loss = 2.45139, step = 12276 (58.416 sec)\n",
      "INFO:tensorflow:global_step/sec: 1.7105\n",
      "INFO:tensorflow:loss = 4.49157, step = 12376 (58.463 sec)\n",
      "INFO:tensorflow:global_step/sec: 1.70202\n",
      "INFO:tensorflow:loss = 6.16642, step = 12476 (58.754 sec)\n",
      "INFO:tensorflow:global_step/sec: 1.70469\n",
      "INFO:tensorflow:loss = 12.6359, step = 12576 (58.662 sec)\n",
      "INFO:tensorflow:global_step/sec: 1.71517\n",
      "INFO:tensorflow:loss = 2.71018, step = 12676 (58.304 sec)\n",
      "INFO:tensorflow:Saving checkpoints for 12710 into ../dfs/checkpoint/dnn8_model_a/model.ckpt.\n",
      "INFO:tensorflow:global_step/sec: 1.35919\n",
      "INFO:tensorflow:loss = 4.44832, step = 12776 (73.573 sec)\n",
      "INFO:tensorflow:global_step/sec: 1.70982\n",
      "INFO:tensorflow:loss = 3.83577, step = 12876 (58.486 sec)\n",
      "INFO:tensorflow:global_step/sec: 1.71178\n",
      "INFO:tensorflow:loss = 4.18388, step = 12976 (58.422 sec)\n",
      "INFO:tensorflow:global_step/sec: 1.71392\n",
      "INFO:tensorflow:loss = 2.77514, step = 13076 (58.342 sec)\n",
      "INFO:tensorflow:global_step/sec: 1.69178\n",
      "INFO:tensorflow:loss = 1.71239, step = 13176 (59.110 sec)\n",
      "INFO:tensorflow:global_step/sec: 1.70782\n",
      "INFO:tensorflow:loss = 1.80901, step = 13276 (58.554 sec)\n",
      "INFO:tensorflow:global_step/sec: 1.71272\n",
      "INFO:tensorflow:loss = 3.5267, step = 13376 (58.387 sec)\n",
      "INFO:tensorflow:global_step/sec: 1.71782\n",
      "INFO:tensorflow:loss = 4.17686, step = 13476 (58.214 sec)\n",
      "INFO:tensorflow:global_step/sec: 1.71669\n",
      "INFO:tensorflow:loss = 2.41749, step = 13576 (58.251 sec)\n",
      "INFO:tensorflow:global_step/sec: 1.70748\n",
      "INFO:tensorflow:loss = 1.64876, step = 13676 (58.565 sec)\n",
      "INFO:tensorflow:Saving checkpoints for 13711 into ../dfs/checkpoint/dnn8_model_a/model.ckpt.\n",
      "INFO:tensorflow:global_step/sec: 1.34031\n",
      "INFO:tensorflow:loss = 11.8816, step = 13776 (74.609 sec)\n",
      "INFO:tensorflow:global_step/sec: 1.7087\n",
      "INFO:tensorflow:loss = 1.95809, step = 13876 (58.524 sec)\n",
      "INFO:tensorflow:global_step/sec: 1.70684\n",
      "INFO:tensorflow:loss = 2.78537, step = 13976 (58.588 sec)\n",
      "INFO:tensorflow:global_step/sec: 1.69951\n",
      "INFO:tensorflow:loss = 1.79809, step = 14076 (58.841 sec)\n",
      "INFO:tensorflow:global_step/sec: 1.71082\n",
      "INFO:tensorflow:loss = 0.645235, step = 14176 (58.452 sec)\n",
      "INFO:tensorflow:global_step/sec: 1.71027\n",
      "INFO:tensorflow:loss = 0.609891, step = 14276 (58.471 sec)\n",
      "INFO:tensorflow:global_step/sec: 1.70852\n",
      "INFO:tensorflow:loss = 13.1575, step = 14376 (58.530 sec)\n",
      "INFO:tensorflow:global_step/sec: 1.7082\n",
      "INFO:tensorflow:loss = 0.980552, step = 14476 (58.542 sec)\n",
      "INFO:tensorflow:global_step/sec: 1.70934\n",
      "INFO:tensorflow:loss = 1.25128, step = 14576 (58.501 sec)\n",
      "INFO:tensorflow:global_step/sec: 1.70404\n",
      "INFO:tensorflow:loss = 4.72257, step = 14676 (58.684 sec)\n",
      "INFO:tensorflow:Saving checkpoints for 14708 into ../dfs/checkpoint/dnn8_model_a/model.ckpt.\n",
      "INFO:tensorflow:global_step/sec: 1.3126\n",
      "INFO:tensorflow:loss = 1.34604, step = 14776 (76.185 sec)\n",
      "INFO:tensorflow:global_step/sec: 1.68419\n",
      "INFO:tensorflow:loss = 4.26442, step = 14876 (59.375 sec)\n",
      "INFO:tensorflow:global_step/sec: 1.69498\n",
      "INFO:tensorflow:loss = 0.285251, step = 14976 (58.998 sec)\n",
      "INFO:tensorflow:global_step/sec: 1.69589\n",
      "INFO:tensorflow:loss = 6.39161, step = 15076 (58.966 sec)\n",
      "INFO:tensorflow:global_step/sec: 1.69411\n",
      "INFO:tensorflow:loss = 0.862692, step = 15176 (59.028 sec)\n",
      "INFO:tensorflow:global_step/sec: 1.68934\n",
      "INFO:tensorflow:loss = 16.0082, step = 15276 (59.194 sec)\n",
      "INFO:tensorflow:global_step/sec: 1.70403\n",
      "INFO:tensorflow:loss = 1.62682, step = 15376 (58.685 sec)\n",
      "INFO:tensorflow:global_step/sec: 1.70423\n",
      "INFO:tensorflow:loss = 14.2733, step = 15476 (58.677 sec)\n",
      "INFO:tensorflow:global_step/sec: 1.69728\n",
      "INFO:tensorflow:loss = 11.7525, step = 15576 (58.918 sec)\n",
      "INFO:tensorflow:global_step/sec: 1.67547\n",
      "INFO:tensorflow:loss = 0.279876, step = 15676 (59.686 sec)\n",
      "INFO:tensorflow:Saving checkpoints for 15694 into ../dfs/checkpoint/dnn8_model_a/model.ckpt.\n",
      "INFO:tensorflow:global_step/sec: 1.35142\n",
      "INFO:tensorflow:loss = 14.5747, step = 15776 (73.996 sec)\n",
      "INFO:tensorflow:global_step/sec: 1.70295\n",
      "INFO:tensorflow:loss = 0.900929, step = 15876 (58.721 sec)\n",
      "INFO:tensorflow:global_step/sec: 1.6646\n",
      "INFO:tensorflow:loss = 0.801003, step = 15976 (60.075 sec)\n",
      "INFO:tensorflow:global_step/sec: 1.62793\n",
      "INFO:tensorflow:loss = 0.963122, step = 16076 (61.428 sec)\n",
      "INFO:tensorflow:global_step/sec: 1.69142\n",
      "INFO:tensorflow:loss = 7.7768, step = 16176 (59.122 sec)\n",
      "INFO:tensorflow:global_step/sec: 1.61443\n",
      "INFO:tensorflow:loss = 1.18554, step = 16276 (61.944 sec)\n",
      "INFO:tensorflow:global_step/sec: 1.64795\n",
      "INFO:tensorflow:loss = 10.9797, step = 16376 (60.679 sec)\n",
      "INFO:tensorflow:global_step/sec: 1.44187\n",
      "INFO:tensorflow:loss = 0.832146, step = 16476 (69.356 sec)\n",
      "INFO:tensorflow:global_step/sec: 1.00627\n",
      "INFO:tensorflow:loss = 1.78961, step = 16576 (99.374 sec)\n",
      "INFO:tensorflow:Saving checkpoints for 16583 into ../dfs/checkpoint/dnn8_model_a/model.ckpt.\n",
      "INFO:tensorflow:global_step/sec: 0.84048\n",
      "INFO:tensorflow:loss = 5.31533, step = 16676 (118.980 sec)\n",
      "INFO:tensorflow:global_step/sec: 1.3268\n",
      "INFO:tensorflow:loss = 4.45486, step = 16776 (75.368 sec)\n",
      "INFO:tensorflow:global_step/sec: 1.19322\n",
      "INFO:tensorflow:loss = 4.24508, step = 16876 (83.812 sec)\n",
      "INFO:tensorflow:global_step/sec: 1.05076\n",
      "INFO:tensorflow:loss = 1.17962, step = 16976 (95.166 sec)\n",
      "INFO:tensorflow:global_step/sec: 1.05126\n",
      "INFO:tensorflow:loss = 4.70801, step = 17076 (95.123 sec)\n",
      "INFO:tensorflow:global_step/sec: 1.41115\n",
      "INFO:tensorflow:loss = 38.246, step = 17176 (70.865 sec)\n",
      "INFO:tensorflow:Saving checkpoints for 17257 into ../dfs/checkpoint/dnn8_model_a/model.ckpt.\n",
      "INFO:tensorflow:global_step/sec: 0.944842\n",
      "INFO:tensorflow:loss = 5.09365, step = 17276 (105.838 sec)\n",
      "INFO:tensorflow:global_step/sec: 1.0477\n",
      "INFO:tensorflow:loss = 5.48326, step = 17376 (95.448 sec)\n",
      "INFO:tensorflow:global_step/sec: 1.14684\n",
      "INFO:tensorflow:loss = 0.305718, step = 17476 (87.196 sec)\n",
      "INFO:tensorflow:global_step/sec: 1.40113\n",
      "INFO:tensorflow:loss = 0.907691, step = 17576 (71.371 sec)\n",
      "INFO:tensorflow:global_step/sec: 1.06449\n",
      "INFO:tensorflow:loss = 10.8459, step = 17676 (93.943 sec)\n",
      "INFO:tensorflow:global_step/sec: 1.05224\n",
      "INFO:tensorflow:loss = 2.29137, step = 17776 (95.036 sec)\n",
      "INFO:tensorflow:global_step/sec: 1.17387\n",
      "INFO:tensorflow:loss = 1.279, step = 17876 (85.186 sec)\n",
      "INFO:tensorflow:Saving checkpoints for 17929 into ../dfs/checkpoint/dnn8_model_a/model.ckpt.\n",
      "INFO:tensorflow:global_step/sec: 1.02158\n",
      "INFO:tensorflow:loss = 1.95506, step = 17976 (97.889 sec)\n",
      "INFO:tensorflow:global_step/sec: 1.04794\n",
      "INFO:tensorflow:loss = 0.0819453, step = 18076 (95.423 sec)\n",
      "INFO:tensorflow:global_step/sec: 1.055\n",
      "INFO:tensorflow:loss = 0.206014, step = 18176 (94.787 sec)\n",
      "INFO:tensorflow:global_step/sec: 1.42382\n",
      "INFO:tensorflow:loss = 2.00457, step = 18276 (70.234 sec)\n",
      "INFO:tensorflow:global_step/sec: 1.11186\n",
      "INFO:tensorflow:loss = 22.5858, step = 18376 (89.940 sec)\n",
      "INFO:tensorflow:global_step/sec: 1.04781\n",
      "INFO:tensorflow:loss = 0.759566, step = 18476 (95.437 sec)\n",
      "INFO:tensorflow:Saving checkpoints for 18574 into ../dfs/checkpoint/dnn8_model_a/model.ckpt.\n",
      "INFO:tensorflow:global_step/sec: 0.939149\n",
      "INFO:tensorflow:loss = 5.15124, step = 18576 (106.479 sec)\n",
      "INFO:tensorflow:global_step/sec: 1.26372\n",
      "INFO:tensorflow:loss = 2.8561, step = 18676 (79.132 sec)\n",
      "INFO:tensorflow:global_step/sec: 1.05141\n",
      "INFO:tensorflow:loss = 0.181341, step = 18776 (95.110 sec)\n",
      "INFO:tensorflow:global_step/sec: 1.05046\n",
      "INFO:tensorflow:loss = 4.89596, step = 18876 (95.198 sec)\n"
     ]
    }
   ],
   "source": [
    "import tensorflow as tf\n",
    "import numpy as np\n",
    "import os\n",
    "import random\n",
    "from numpy import array\n",
    "\n",
    "from skimage.io import imread, imsave\n",
    "from skimage.color import rgb2gray\n",
    "from skimage.transform import resize\n",
    "\n",
    "IMAGE_SIZE = 64\n",
    "FULL_CHARSET_SIZE = 3755\n",
    "CHARSET_SIZE = 37\n",
    "\n",
    "def input(dataset):\n",
    "    return dataset.images, dataset.labels\n",
    "\n",
    "class DataSetLoader:\n",
    "    def __init__(self, data_dir):\n",
    "        # Set CHARSET_SIZE to a small value if available computation power is limited.\n",
    "        truncate_path = data_dir + ('%05d' % CHARSET_SIZE)\n",
    "        print('Now processing path: ', truncate_path)\n",
    "        image_names = []\n",
    "        for root, sub_folder, file_list in os.walk(data_dir):\n",
    "            if root < truncate_path:\n",
    "                image_names += [os.path.join(root, file_path) for file_path in file_list]\n",
    "        random.shuffle(image_names)\n",
    "        self.labels = [int(file_name[len(data_dir):].split(os.sep)[0]) for file_name in image_names]\n",
    "        images_rgb = [imread(file_name) for file_name in image_names]\n",
    "        image_resized = [resize(image, (IMAGE_SIZE, IMAGE_SIZE)) for image in images_rgb]\n",
    "        self.images = [rgb2gray(item) for item in image_resized]\n",
    "        \n",
    "        # convert list to numpy array\n",
    "        self.images = array(self.images)\n",
    "        self.labels = array(self.labels)\n",
    "    \n",
    "train_data = DataSetLoader(data_dir='../data/train_/')\n",
    "print ('Train data loaded.')\n",
    "\n",
    "# Specify feature\n",
    "feature_columns = [tf.feature_column.numeric_column(\"x\", shape=[IMAGE_SIZE, IMAGE_SIZE])]\n",
    "\n",
    "# Build 8 layer DNN classifier\n",
    "classifier = tf.estimator.DNNClassifier(\n",
    "    feature_columns=feature_columns, # The input features to our model\n",
    "    hidden_units=[4096, 4096, 4096, 4096, 4096, 4096], # 6 hidden layers\n",
    "    n_classes=CHARSET_SIZE, # survived or not {1, 0}\n",
    "    model_dir=\"../dfs/checkpoint/dnn8_model_a\", # Path to where checkpoints etc are stored\n",
    "    optimizer=tf.train.RMSPropOptimizer(\n",
    "        learning_rate=0.00001),\n",
    "    dropout=0.1)\n",
    "\n",
    "# Define the training inputs\n",
    "train_input_fn = tf.estimator.inputs.numpy_input_fn(\n",
    "    x={\"x\": input(train_data)[0]},\n",
    "    y=input(train_data)[1],\n",
    "    num_epochs=None,\n",
    "    batch_size=50,\n",
    "    shuffle=True\n",
    ")\n",
    "\n",
    "classifier.train(input_fn=train_input_fn, steps=20000)\n",
    "print ('Train done, begin to test ...')\n",
    "test_data = DataSetLoader(data_dir='../data/test_/')\n",
    "# Define the test inputs\n",
    "test_input_fn = tf.estimator.inputs.numpy_input_fn(\n",
    "    x={\"x\": input(test_data)[0]},\n",
    "    y=input(test_data)[1],\n",
    "    num_epochs=1,\n",
    "    shuffle=False\n",
    ")\n",
    "\n",
    "# Evaluate accuracy\n",
    "accuracy_score = classifier.evaluate(input_fn=test_input_fn)[\"accuracy\"]\n",
    "print(\"\\nTest Accuracy: {0:f}%\\n\".format(accuracy_score*100))"
   ]
  },
  {
   "cell_type": "markdown",
   "metadata": {},
   "source": [
    "改为6层DNN，学得超快无比：\n",
    "INFO:tensorflow:Saving checkpoints for 1 into ../dfs/checkpoint/dnn8_model_a/model.ckpt.\n",
    "INFO:tensorflow:loss = 184.751, step = 1\n",
    "INFO:tensorflow:global_step/sec: 1.60653\n",
    "INFO:tensorflow:loss = 180.424, step = 101 (62.248 sec)\n",
    "INFO:tensorflow:global_step/sec: 1.6572\n",
    "INFO:tensorflow:loss = 175.846, step = 201 (60.342 sec)\n",
    "INFO:tensorflow:global_step/sec: 1.66683\n",
    "INFO:tensorflow:loss = 156.408, step = 301 (59.994 sec)\n",
    "INFO:tensorflow:global_step/sec: 1.65212\n",
    "INFO:tensorflow:loss = 133.999, step = 401 (60.530 sec)\n",
    "INFO:tensorflow:global_step/sec: 1.69154\n",
    "INFO:tensorflow:loss = 121.082, step = 501 (59.117 sec)\n",
    "\n",
    "快不是运行速度，是学习速度；几百步，loss就从180多降到120多。最初的模型，上千步时，loss还在180时左右徘徊。\n",
    "感觉层数与层里的节点数，就像大脑的容量；越大真的越强。\n",
    "\n",
    "下面是手工测试："
   ]
  },
  {
   "cell_type": "code",
   "execution_count": 1,
   "metadata": {},
   "outputs": [
    {
     "name": "stdout",
     "output_type": "stream",
     "text": [
      "INFO:tensorflow:Using config: {'_task_type': None, '_task_id': 0, '_cluster_spec': <tensorflow.python.training.server_lib.ClusterSpec object at 0x7ff478434940>, '_master': '', '_num_ps_replicas': 0, '_num_worker_replicas': 0, '_environment': 'local', '_is_chief': True, '_evaluation_master': '', '_tf_config': gpu_options {\n",
      "  per_process_gpu_memory_fraction: 1.0\n",
      "}\n",
      ", '_tf_random_seed': None, '_save_summary_steps': 100, '_save_checkpoints_secs': 600, '_log_step_count_steps': 100, '_session_config': None, '_save_checkpoints_steps': None, '_keep_checkpoint_max': 5, '_keep_checkpoint_every_n_hours': 10000, '_model_dir': '../dfs/checkpoint/dnn8_model_a'}\n",
      "Now processing path:  ../data/test_/00037\n",
      "INFO:tensorflow:Starting evaluation at 2018-04-21-11:03:02\n",
      "INFO:tensorflow:Restoring parameters from ../dfs/checkpoint/dnn8_model_a/model.ckpt-24775\n",
      "INFO:tensorflow:Finished evaluation at 2018-04-21-11:03:08\n",
      "INFO:tensorflow:Saving dict for global step 24775: accuracy = 0.826244, average_loss = 1.14508, global_step = 24775, loss = 140.59\n",
      "\n",
      "Test Accuracy: 82.624435%\n",
      "\n",
      "INFO:tensorflow:Restoring parameters from ../dfs/checkpoint/dnn8_model_a/model.ckpt-24775\n"
     ]
    },
    {
     "data": {
      "text/plain": [
       "<matplotlib.figure.Figure at 0x7ff409cf4d30>"
      ]
     },
     "metadata": {},
     "output_type": "display_data"
    },
    {
     "name": "stdout",
     "output_type": "stream",
     "text": [
      "Prediction label is:  19\n",
      "Real label is: 19\n"
     ]
    },
    {
     "data": {
      "text/plain": [
       "<matplotlib.figure.Figure at 0x7ff40809a550>"
      ]
     },
     "metadata": {},
     "output_type": "display_data"
    },
    {
     "name": "stdout",
     "output_type": "stream",
     "text": [
      "Prediction label is:  4\n",
      "Real label is: 4\n"
     ]
    },
    {
     "data": {
      "text/plain": [
       "<matplotlib.figure.Figure at 0x7ff40806bfd0>"
      ]
     },
     "metadata": {},
     "output_type": "display_data"
    },
    {
     "name": "stdout",
     "output_type": "stream",
     "text": [
      "Prediction label is:  32\n",
      "Real label is: 32\n"
     ]
    },
    {
     "data": {
      "text/plain": [
       "<matplotlib.figure.Figure at 0x7ff3ec79def0>"
      ]
     },
     "metadata": {},
     "output_type": "display_data"
    },
    {
     "name": "stdout",
     "output_type": "stream",
     "text": [
      "Prediction label is:  13\n",
      "Real label is: 13\n"
     ]
    },
    {
     "data": {
      "text/plain": [
       "<matplotlib.figure.Figure at 0x7ff3ec70cf28>"
      ]
     },
     "metadata": {},
     "output_type": "display_data"
    },
    {
     "name": "stdout",
     "output_type": "stream",
     "text": [
      "Prediction label is:  18\n",
      "Real label is: 18\n"
     ]
    },
    {
     "data": {
      "text/plain": [
       "<matplotlib.figure.Figure at 0x7ff3ec7f1668>"
      ]
     },
     "metadata": {},
     "output_type": "display_data"
    },
    {
     "name": "stdout",
     "output_type": "stream",
     "text": [
      "Prediction label is:  7\n",
      "Real label is: 7\n"
     ]
    },
    {
     "data": {
      "text/plain": [
       "<matplotlib.figure.Figure at 0x7ff40b7b5b38>"
      ]
     },
     "metadata": {},
     "output_type": "display_data"
    },
    {
     "name": "stdout",
     "output_type": "stream",
     "text": [
      "Prediction label is:  20\n",
      "Real label is: 20\n"
     ]
    },
    {
     "data": {
      "text/plain": [
       "<matplotlib.figure.Figure at 0x7ff40b6c9b00>"
      ]
     },
     "metadata": {},
     "output_type": "display_data"
    },
    {
     "name": "stdout",
     "output_type": "stream",
     "text": [
      "Prediction label is:  8\n",
      "Real label is: 8\n"
     ]
    },
    {
     "data": {
      "text/plain": [
       "<matplotlib.figure.Figure at 0x7ff40807ef60>"
      ]
     },
     "metadata": {},
     "output_type": "display_data"
    },
    {
     "name": "stdout",
     "output_type": "stream",
     "text": [
      "Prediction label is:  16\n",
      "Real label is: 16\n"
     ]
    },
    {
     "data": {
      "text/plain": [
       "<matplotlib.figure.Figure at 0x7ff3ec733e10>"
      ]
     },
     "metadata": {},
     "output_type": "display_data"
    },
    {
     "name": "stdout",
     "output_type": "stream",
     "text": [
      "Prediction label is:  4\n",
      "Real label is: 4\n"
     ]
    },
    {
     "data": {
      "text/plain": [
       "<matplotlib.figure.Figure at 0x7ff3ec78cb70>"
      ]
     },
     "metadata": {},
     "output_type": "display_data"
    },
    {
     "name": "stdout",
     "output_type": "stream",
     "text": [
      "Prediction label is:  17\n",
      "Real label is: 19\n"
     ]
    },
    {
     "data": {
      "text/plain": [
       "<matplotlib.figure.Figure at 0x7ff40b973b70>"
      ]
     },
     "metadata": {},
     "output_type": "display_data"
    },
    {
     "name": "stdout",
     "output_type": "stream",
     "text": [
      "Prediction label is:  4\n",
      "Real label is: 4\n"
     ]
    },
    {
     "data": {
      "text/plain": [
       "<matplotlib.figure.Figure at 0x7ff3ec6ee898>"
      ]
     },
     "metadata": {},
     "output_type": "display_data"
    },
    {
     "name": "stdout",
     "output_type": "stream",
     "text": [
      "Prediction label is:  5\n",
      "Real label is: 5\n"
     ]
    },
    {
     "data": {
      "text/plain": [
       "<matplotlib.figure.Figure at 0x7ff40b7f4710>"
      ]
     },
     "metadata": {},
     "output_type": "display_data"
    },
    {
     "name": "stdout",
     "output_type": "stream",
     "text": [
      "Prediction label is:  7\n",
      "Real label is: 7\n"
     ]
    },
    {
     "data": {
      "text/plain": [
       "<matplotlib.figure.Figure at 0x7ff4080cf518>"
      ]
     },
     "metadata": {},
     "output_type": "display_data"
    },
    {
     "name": "stdout",
     "output_type": "stream",
     "text": [
      "Prediction label is:  6\n",
      "Real label is: 6\n"
     ]
    },
    {
     "data": {
      "text/plain": [
       "<matplotlib.figure.Figure at 0x7ff409d53390>"
      ]
     },
     "metadata": {},
     "output_type": "display_data"
    },
    {
     "name": "stdout",
     "output_type": "stream",
     "text": [
      "Prediction label is:  8\n",
      "Real label is: 8\n"
     ]
    },
    {
     "data": {
      "text/plain": [
       "<matplotlib.figure.Figure at 0x7ff40b877278>"
      ]
     },
     "metadata": {},
     "output_type": "display_data"
    },
    {
     "name": "stdout",
     "output_type": "stream",
     "text": [
      "Prediction label is:  19\n",
      "Real label is: 19\n"
     ]
    },
    {
     "data": {
      "text/plain": [
       "<matplotlib.figure.Figure at 0x7ff40b8d6f60>"
      ]
     },
     "metadata": {},
     "output_type": "display_data"
    },
    {
     "name": "stdout",
     "output_type": "stream",
     "text": [
      "Prediction label is:  0\n",
      "Real label is: 0\n"
     ]
    },
    {
     "data": {
      "text/plain": [
       "<matplotlib.figure.Figure at 0x7ff409c22668>"
      ]
     },
     "metadata": {},
     "output_type": "display_data"
    },
    {
     "name": "stdout",
     "output_type": "stream",
     "text": [
      "Prediction label is:  14\n",
      "Real label is: 14\n"
     ]
    },
    {
     "data": {
      "text/plain": [
       "<matplotlib.figure.Figure at 0x7ff40b952dd8>"
      ]
     },
     "metadata": {},
     "output_type": "display_data"
    },
    {
     "name": "stdout",
     "output_type": "stream",
     "text": [
      "Prediction label is:  13\n",
      "Real label is: 13\n"
     ]
    },
    {
     "data": {
      "text/plain": [
       "<matplotlib.figure.Figure at 0x7ff40b757828>"
      ]
     },
     "metadata": {},
     "output_type": "display_data"
    },
    {
     "name": "stdout",
     "output_type": "stream",
     "text": [
      "Prediction label is:  14\n",
      "Real label is: 14\n"
     ]
    },
    {
     "data": {
      "text/plain": [
       "<matplotlib.figure.Figure at 0x7ff40824a080>"
      ]
     },
     "metadata": {},
     "output_type": "display_data"
    },
    {
     "name": "stdout",
     "output_type": "stream",
     "text": [
      "Prediction label is:  8\n",
      "Real label is: 8\n"
     ]
    },
    {
     "data": {
      "text/plain": [
       "<matplotlib.figure.Figure at 0x7ff409b29978>"
      ]
     },
     "metadata": {},
     "output_type": "display_data"
    },
    {
     "name": "stdout",
     "output_type": "stream",
     "text": [
      "Prediction label is:  16\n",
      "Real label is: 16\n"
     ]
    },
    {
     "data": {
      "text/plain": [
       "<matplotlib.figure.Figure at 0x7ff41005ec50>"
      ]
     },
     "metadata": {},
     "output_type": "display_data"
    },
    {
     "name": "stdout",
     "output_type": "stream",
     "text": [
      "Prediction label is:  27\n",
      "Real label is: 27\n"
     ]
    },
    {
     "data": {
      "text/plain": [
       "<matplotlib.figure.Figure at 0x7ff40b966978>"
      ]
     },
     "metadata": {},
     "output_type": "display_data"
    },
    {
     "name": "stdout",
     "output_type": "stream",
     "text": [
      "Prediction label is:  7\n",
      "Real label is: 7\n"
     ]
    },
    {
     "data": {
      "text/plain": [
       "<matplotlib.figure.Figure at 0x7ff40b8c7898>"
      ]
     },
     "metadata": {},
     "output_type": "display_data"
    },
    {
     "name": "stdout",
     "output_type": "stream",
     "text": [
      "Prediction label is:  24\n",
      "Real label is: 24\n"
     ]
    },
    {
     "data": {
      "text/plain": [
       "<matplotlib.figure.Figure at 0x7ff40b86a710>"
      ]
     },
     "metadata": {},
     "output_type": "display_data"
    },
    {
     "name": "stdout",
     "output_type": "stream",
     "text": [
      "Prediction label is:  0\n",
      "Real label is: 0\n"
     ]
    },
    {
     "data": {
      "text/plain": [
       "<matplotlib.figure.Figure at 0x7ff40b7c6550>"
      ]
     },
     "metadata": {},
     "output_type": "display_data"
    },
    {
     "name": "stdout",
     "output_type": "stream",
     "text": [
      "Prediction label is:  22\n",
      "Real label is: 36\n"
     ]
    },
    {
     "data": {
      "text/plain": [
       "<matplotlib.figure.Figure at 0x7ff409b7f358>"
      ]
     },
     "metadata": {},
     "output_type": "display_data"
    },
    {
     "name": "stdout",
     "output_type": "stream",
     "text": [
      "Prediction label is:  35\n",
      "Real label is: 35\n"
     ]
    },
    {
     "data": {
      "text/plain": [
       "<matplotlib.figure.Figure at 0x7ff40ba9c1d0>"
      ]
     },
     "metadata": {},
     "output_type": "display_data"
    },
    {
     "name": "stdout",
     "output_type": "stream",
     "text": [
      "Prediction label is:  18\n",
      "Real label is: 27\n"
     ]
    },
    {
     "data": {
      "text/plain": [
       "<matplotlib.figure.Figure at 0x7ff409c6deb8>"
      ]
     },
     "metadata": {},
     "output_type": "display_data"
    },
    {
     "name": "stdout",
     "output_type": "stream",
     "text": [
      "Prediction label is:  19\n",
      "Real label is: 19\n"
     ]
    },
    {
     "data": {
      "text/plain": [
       "<matplotlib.figure.Figure at 0x7ff40ba5b390>"
      ]
     },
     "metadata": {},
     "output_type": "display_data"
    },
    {
     "name": "stdout",
     "output_type": "stream",
     "text": [
      "Prediction label is:  32\n",
      "Real label is: 30\n"
     ]
    },
    {
     "data": {
      "text/plain": [
       "<matplotlib.figure.Figure at 0x7ff40b846b38>"
      ]
     },
     "metadata": {},
     "output_type": "display_data"
    },
    {
     "name": "stdout",
     "output_type": "stream",
     "text": [
      "Prediction label is:  1\n",
      "Real label is: 1\n"
     ]
    },
    {
     "data": {
      "text/plain": [
       "<matplotlib.figure.Figure at 0x7ff40b9526a0>"
      ]
     },
     "metadata": {},
     "output_type": "display_data"
    },
    {
     "name": "stdout",
     "output_type": "stream",
     "text": [
      "Prediction label is:  4\n",
      "Real label is: 4\n"
     ]
    },
    {
     "data": {
      "text/plain": [
       "<matplotlib.figure.Figure at 0x7ff409c43f28>"
      ]
     },
     "metadata": {},
     "output_type": "display_data"
    },
    {
     "name": "stdout",
     "output_type": "stream",
     "text": [
      "Prediction label is:  14\n",
      "Real label is: 14\n"
     ]
    },
    {
     "data": {
      "text/plain": [
       "<matplotlib.figure.Figure at 0x7ff40807ee10>"
      ]
     },
     "metadata": {},
     "output_type": "display_data"
    },
    {
     "name": "stdout",
     "output_type": "stream",
     "text": [
      "Prediction label is:  34\n",
      "Real label is: 34\n"
     ]
    },
    {
     "data": {
      "text/plain": [
       "<matplotlib.figure.Figure at 0x7ff410058c50>"
      ]
     },
     "metadata": {},
     "output_type": "display_data"
    },
    {
     "name": "stdout",
     "output_type": "stream",
     "text": [
      "Prediction label is:  5\n",
      "Real label is: 5\n"
     ]
    }
   ],
   "source": [
    "# from: https://www.kaggle.com/jeffcarp/example-save-and-load-a-tensorflow-model\n",
    "\n",
    "import tensorflow as tf\n",
    "import numpy as np\n",
    "import os\n",
    "import random\n",
    "from numpy import array\n",
    "\n",
    "from skimage.io import imread, imsave\n",
    "from skimage.color import rgb2gray\n",
    "from skimage.transform import resize\n",
    "\n",
    "from tensorflow.contrib.learn.python.learn.estimators import run_config\n",
    "from tensorflow.contrib.training.python.training import hparam\n",
    "\n",
    "IMAGE_SIZE = 64\n",
    "# CHARSET_SIZE = 3755\n",
    "CHARSET_SIZE = 37\n",
    "\n",
    "def input(dataset):\n",
    "    return dataset.images, dataset.labels\n",
    "\n",
    "class DataSetLoader:\n",
    "    def __init__(self, data_dir):\n",
    "        # Set CHARSET_SIZE to a small value if available computation power is limited.\n",
    "        truncate_path = data_dir + ('%05d' % CHARSET_SIZE)\n",
    "        print('Now processing path: ', truncate_path)\n",
    "        image_names = []\n",
    "        for root, sub_folder, file_list in os.walk(data_dir):\n",
    "            if root < truncate_path:\n",
    "                image_names += [os.path.join(root, file_path) for file_path in file_list]\n",
    "        random.shuffle(image_names)\n",
    "        self.labels = [int(file_name[len(data_dir):].split(os.sep)[0]) for file_name in image_names]\n",
    "        images_rgb = [imread(file_name) for file_name in image_names]\n",
    "        image_resized = [resize(image, (IMAGE_SIZE, IMAGE_SIZE)) for image in images_rgb]\n",
    "        self.images = [rgb2gray(item) for item in image_resized]\n",
    "        \n",
    "        # convert list to numpy array\n",
    "        self.images = array(self.images)\n",
    "        self.labels = array(self.labels)\n",
    "\n",
    "# Specify feature\n",
    "feature_columns = [tf.feature_column.numeric_column(\"x\", shape=[IMAGE_SIZE, IMAGE_SIZE])]\n",
    "\n",
    "def make_estimator(model_dir):\n",
    "    config = run_config.RunConfig(model_dir=model_dir)\n",
    "\n",
    "    return tf.estimator.DNNClassifier (\n",
    "        config=config,\n",
    "        feature_columns=feature_columns, # The input features to our model\n",
    "    hidden_units=[4096, 4096, 4096, 4096, 4096, 4096], # 6 hidden layers\n",
    "    n_classes=CHARSET_SIZE, # survived or not {1, 0}\n",
    "    optimizer=tf.train.RMSPropOptimizer(\n",
    "        learning_rate=0.00001),\n",
    "    dropout=0.1)\n",
    "    \n",
    "\n",
    "MODEL_DIR = \"../dfs/checkpoint/dnn8_model_a\"\n",
    "model_from_checkpoint = make_estimator(MODEL_DIR)\n",
    "\n",
    "test_data = DataSetLoader(data_dir='../data/test_/')\n",
    "# Define the test inputs\n",
    "test_input_fn = tf.estimator.inputs.numpy_input_fn(\n",
    "    x={\"x\": input(test_data)[0]},\n",
    "    y=input(test_data)[1],\n",
    "    num_epochs=1,\n",
    "    shuffle=False\n",
    ")\n",
    "\n",
    "predict_input_fn = tf.estimator.inputs.numpy_input_fn(\n",
    "    x={\"x\": input(test_data)[0]},\n",
    "    num_epochs=1,\n",
    "    shuffle=False)\n",
    "\n",
    "# Evaluate accuracy\n",
    "accuracy_score = model_from_checkpoint.evaluate(input_fn=test_input_fn)[\"accuracy\"]\n",
    "print(\"\\nTest Accuracy: {0:f}%\\n\".format(accuracy_score*100))\n",
    "\n",
    "# manually test\n",
    "predictions = list(model_from_checkpoint.predict(input_fn=predict_input_fn))\n",
    "predictions_value_array = list(predictions)\n",
    "\n",
    "import matplotlib.pyplot as plt\n",
    "\n",
    "def test_n_hanzi(predictions_values, index):\n",
    "    # Show the image of the input data\n",
    "    image_data_array = test_data.images[index]\n",
    "    image_data = image_data_array.reshape((IMAGE_SIZE, IMAGE_SIZE))\n",
    "    plt.imshow(image_data)\n",
    "    plt.show()\n",
    "    \n",
    "    # show the prediction result\n",
    "    print ('Prediction label is: ', np.argmax(predictions_values[index][\"probabilities\"]))\n",
    "    \n",
    "    # Show the lable\n",
    "    print (\"Real label is: %d\"%(test_data.labels[index]))\n",
    "\n",
    "for i in range(37):\n",
    "    test_n_hanzi(predictions_value_array, i)    "
   ]
  },
  {
   "cell_type": "code",
   "execution_count": null,
   "metadata": {},
   "outputs": [],
   "source": [
    "\n",
    "\n",
    "INFO:tensorflow:Starting evaluation at 2018-04-21-11:03:02\n",
    "INFO:tensorflow:Restoring parameters from ../dfs/checkpoint/dnn8_model_a/model.ckpt-24775\n",
    "INFO:tensorflow:Finished evaluation at 2018-04-21-11:03:08\n",
    "INFO:tensorflow:Saving dict for global step 24775: accuracy = 0.826244, average_loss = 1.14508, global_step = 24775, loss = 140.59\n",
    "\n",
    "Test Accuracy: 82.624435%\n",
    "    \n",
    "    这个训练时间长，2万多步时，精度为82%。用了8个小时。\n",
    "    \n",
    "    再来一次看看。\n",
    "    \n",
    "    "
   ]
  }
 ],
 "metadata": {
  "kernelspec": {
   "display_name": "Python 3",
   "language": "python",
   "name": "python3"
  },
  "language_info": {
   "codemirror_mode": {
    "name": "ipython",
    "version": 3
   },
   "file_extension": ".py",
   "mimetype": "text/x-python",
   "name": "python",
   "nbconvert_exporter": "python",
   "pygments_lexer": "ipython3",
   "version": "3.6.3"
