{
 "cells": [
  {
   "cell_type": "code",
   "execution_count": null,
   "metadata": {},
   "outputs": [],
   "source": [
    "下面我们开始尝试做图形的预处理。\n",
    "\n",
    "图片旋转：\n",
    "下面的代码，取自gnt-C.ipynb\n",
    "http://scikit-image.org/docs/dev/api/skimage.transform.html#skimage.transform.rotate\n",
    "    \n",
    "    \n",
    "    这个skimage： http://scikit-image.org/docs/dev/auto_examples/index.html\n",
    "        \n",
    "        感觉做图片的切分应该很合适。\n",
    "        \n",
    "        "
   ]
  },
  {
   "cell_type": "code",
   "execution_count": 8,
   "metadata": {},
   "outputs": [
    {
     "name": "stdout",
     "output_type": "stream",
     "text": [
      "../data/sandbox/03755\n",
      "shape of images is:  (120, 64, 64)\n",
      "sandbox:  120 531 [[ 0.  0.  0. ...,  0.  0.  0.]\n",
      " [ 0.  0.  0. ...,  0.  0.  0.]\n",
      " [ 0.  0.  0. ...,  0.  0.  0.]\n",
      " ..., \n",
      " [ 0.  0.  0. ...,  0.  0.  0.]\n",
      " [ 0.  0.  0. ...,  0.  0.  0.]\n",
      " [ 0.  0.  0. ...,  0.  0.  0.]]\n",
      "image_data:  [[ 0.  0.  0. ...,  0.  0.  0.]\n",
      " [ 0.  0.  0. ...,  0.  0.  0.]\n",
      " [ 0.  0.  0. ...,  0.  0.  0.]\n",
      " ..., \n",
      " [ 0.  0.  0. ...,  0.  0.  0.]\n",
      " [ 0.  0.  0. ...,  0.  0.  0.]\n",
      " [ 0.  0.  0. ...,  0.  0.  0.]]\n"
     ]
    },
    {
     "data": {
      "image/png": "[encoded data removed]",
      "text/plain": [
       "<matplotlib.figure.Figure at 0x7f9a8d298320>"
      ]
     },
     "metadata": {},
     "output_type": "display_data"
    }
   ],
   "source": [
    "import os\n",
    "import random\n",
    "from PIL import *\n",
    "from numpy import array\n",
    "\n",
    "IMAGE_SIZE = 64\n",
    "CHARSET_SIZE = 3755\n",
    "\n",
    "from skimage.io import imread, imsave\n",
    "from skimage.color import rgb2gray\n",
    "from skimage.transform import resize\n",
    "from skimage.transform import rotate\n",
    "\n",
    "class DataIterator:\n",
    "    def __init__(self, data_dir):\n",
    "        # Set FLAGS.charset_size to a small value if available computation power is limited.\n",
    "        truncate_path = data_dir + ('%05d' % CHARSET_SIZE)\n",
    "        print(truncate_path)\n",
    "        image_names = []\n",
    "        for root, sub_folder, file_list in os.walk(data_dir):\n",
    "            if root < truncate_path:\n",
    "                image_names += [os.path.join(root, file_path) for file_path in file_list]\n",
    "        random.shuffle(image_names)\n",
    "        self.labels = [int(file_name[len(data_dir):].split(os.sep)[0]) for file_name in image_names]\n",
    "        images_rgb = [imread(file_name) for file_name in image_names]\n",
    "        image_resized = [resize(image, (IMAGE_SIZE, IMAGE_SIZE)) for image in images_rgb]\n",
    "        image_rotated = [rotate(image, -45) for image in image_resized]\n",
    "        self.images = [rgb2gray(item) for item in image_rotated]\n",
    "        self.images = array(self.images)\n",
    "        print ('shape of images is: ', self.images.shape)\n",
    "\n",
    "    @property\n",
    "    def size(self):\n",
    "        return len(self.labels)\n",
    "    \n",
    "test_feeder = DataIterator(data_dir='../data/sandbox/')\n",
    "print ('sandbox: ', test_feeder.size, test_feeder.labels[0], test_feeder.images[0])\n",
    "\n",
    "\n",
    "# show image\n",
    "import matplotlib.pyplot as plt\n",
    "first_array=test_feeder.images[0]\n",
    "image_data = first_array.reshape((IMAGE_SIZE, IMAGE_SIZE))\n",
    "print ('image_data: ', image_data)\n",
    "\n",
    "\n",
    "#Not sure you even have to do that if you just want to visualize it\n",
    "#first_array=255*first_array\n",
    "#first_array=first_array.astype(\"uint8\")\n",
    "plt.imshow(image_data)\n",
    "#Actually displaying the plot if you are not in interactive mode\n",
    "plt.show()"
   ]
  },
  {
   "cell_type": "markdown",
   "metadata": {},
   "source": [
    "图片的亮度：\n"
   ]
  }
 ],
 "metadata": {
  "kernelspec": {
   "display_name": "Python 3",
   "language": "python",
   "name": "python3"
  },
  "language_info": {
   "codemirror_mode": {
    "name": "ipython",
    "version": 3
   },
   "file_extension": ".py",
   "mimetype": "text/x-python",
   "name": "python",
   "nbconvert_exporter": "python",
   "pygments_lexer": "ipython3",
   "version": "3.6.3"
  }
 },
 "nbformat": 4,
 "nbformat_minor": 1
}
