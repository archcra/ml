{
 "cells": [
  {
   "cell_type": "code",
   "execution_count": 2,
   "metadata": {},
   "outputs": [
    {
     "name": "stdout",
     "output_type": "stream",
     "text": [
      "Extracting MNIST_data/train-images-idx3-ubyte.gz\n",
      "Extracting MNIST_data/train-labels-idx1-ubyte.gz\n",
      "Extracting MNIST_data/t10k-images-idx3-ubyte.gz\n",
      "Extracting MNIST_data/t10k-labels-idx1-ubyte.gz\n",
      "['__add__', '__class__', '__contains__', '__delattr__', '__dir__', '__doc__', '__eq__', '__format__', '__ge__', '__getattribute__', '__getitem__', '__getnewargs__', '__gt__', '__hash__', '__init__', '__init_subclass__', '__iter__', '__le__', '__len__', '__lt__', '__module__', '__mul__', '__ne__', '__new__', '__reduce__', '__reduce_ex__', '__repr__', '__rmul__', '__setattr__', '__sizeof__', '__slots__', '__str__', '__subclasshook__', '_asdict', '_fields', '_make', '_replace', '_source', 'count', 'index', 'test', 'train', 'validation']\n",
      "train data:  55000 (784,)\n",
      "test data:  10000 (784,)\n",
      "validation data:  5000 (784,)\n",
      "train data of lables:  55000 (55000,) 6\n",
      "done.\n"
     ]
    },
    {
     "data": {
      "text/plain": [
       "784"
      ]
     },
     "execution_count": 2,
     "metadata": {},
     "output_type": "execute_result"
    }
   ],
   "source": [
    "import tensorflow as tf\n",
    "import numpy as np\n",
    "\n",
    "from tensorflow.examples.tutorials.mnist import input_data\n",
    "mnist = input_data.read_data_sets('MNIST_data')\n",
    "\n",
    "def input(dataset):\n",
    "    return dataset.images, dataset.labels.astype(np.int32)\n",
    "\n",
    "# Specify feature\n",
    "feature_columns = [tf.feature_column.numeric_column(\"x\", shape=[28, 28])]\n",
    "\n",
    "# Define the training inputs\n",
    "train_input_fn = tf.estimator.inputs.numpy_input_fn(\n",
    "    x={\"x\": input(mnist.train)[0]},\n",
    "    y=input(mnist.train)[1],\n",
    "    num_epochs=None,\n",
    "    batch_size=1,\n",
    "    shuffle=True\n",
    ")\n",
    "print (dir(mnist))\n",
    "print ('train data: ', len(mnist.train.images), mnist.train.images[1000].shape)\n",
    "print ('test data: ', len(mnist.test.images), mnist.test.images[1000].shape)\n",
    "print ('validation data: ', len(mnist.validation.images), mnist.validation.images[1000].shape)\n",
    "\n",
    "print ('train data of lables: ', len(mnist.train.labels), mnist.train.labels.shape, mnist.train.labels[1000])\n",
    "\n",
    "print ('done.')\n",
    "28*28"
   ]
  },
  {
   "cell_type": "markdown",
   "metadata": {},
   "source": [
    "mnist有几个属性吧，3个是数据的属性：'test', 'train', 'validation'\n",
    "其中,train data是55000条，每条为784个数字的数组，表示一个图片，28*28象素，每象素使用一个数字表示。28*28 = 784.\n",
    "test有10000条数据，validation有5000条数据。长得都是一样的。\n",
    "每个数据属性下面，还有images及labels属性；其中,labels属性；每个label为一个数字；\n",
    "\n",
    "\n",
    "下面，我们将处理gnt的数据，目标为生成同样的数据。\n",
    "数据来自网盘：https://pan.baidu.com/s/1o84jIrg\n",
    "代码来自：https://github.com/burness/tensorflow-101/blob/master/chinese_hand_write_rec/src/chinese_rec.py\n"
   ]
  },
  {
   "cell_type": "code",
   "execution_count": 3,
   "metadata": {},
   "outputs": [],
   "source": [
    "tf.app.flags.DEFINE_integer('charset_size', 3755, \"Choose the first `charset_size` character to conduct our experiment.\")\n",
    "tf.app.flags.DEFINE_integer('image_size', 64, \"Needs to provide same value as in training.\")\n",
    "tf.app.flags.DEFINE_boolean('gray', True, \"whether to change the rbg to gray\")\n",
    "tf.app.flags.DEFINE_integer('max_steps', 12002, 'the max training steps ')\n",
    "tf.app.flags.DEFINE_integer('eval_steps', 50, \"the step num to eval\")\n",
    "tf.app.flags.DEFINE_integer('save_steps', 2000, \"the steps to save\")\n",
    "\n",
    "tf.app.flags.DEFINE_string('checkpoint_dir', './checkpoint/', 'the checkpoint dir')\n",
    "tf.app.flags.DEFINE_string('train_data_dir', '../data/train/', 'the train dataset dir')\n",
    "tf.app.flags.DEFINE_string('test_data_dir', '../data/test/', 'the test dataset dir')\n",
    "tf.app.flags.DEFINE_string('log_dir', './log', 'the logging dir')\n",
    "\n",
    "tf.app.flags.DEFINE_boolean('restore', False, 'whether to restore from checkpoint')\n",
    "tf.app.flags.DEFINE_boolean('epoch', 1, 'Number of epoches')\n",
    "tf.app.flags.DEFINE_boolean('batch_size', 128, 'Validation batch size')\n",
    "tf.app.flags.DEFINE_string('mode', 'train', 'Running mode. One of {\"train\", \"valid\", \"test\"}')\n",
    "FLAGS = tf.app.flags.FLAGS"
   ]
  },
  {
   "cell_type": "markdown",
   "metadata": {},
   "source": [
    "上面的代码不能执行2遍。否则flag会因为重复定义而出错？"
   ]
  },
  {
   "cell_type": "code",
   "execution_count": 15,
   "metadata": {},
   "outputs": [
    {
     "name": "stdout",
     "output_type": "stream",
     "text": [
      "../data/sandbox/03755\n",
      "sandbox:  120\n",
      "Tensor(\"strided_slice_23:0\", shape=(64, 64, 1), dtype=float32) Tensor(\"strided_slice_24:0\", shape=(), dtype=int64)\n",
      "====\n",
      "b is:  Tensor(\"shuffle_batch_11:0\", shape=(10, 64, 64, 1), dtype=float32)\n",
      "here.\n",
      "====\n"
     ]
    }
   ],
   "source": [
    "import os\n",
    "import random\n",
    "from PIL import *\n",
    "\n",
    "class DataIterator:\n",
    "    def __init__(self, data_dir):\n",
    "        # Set FLAGS.charset_size to a small value if available computation power is limited.\n",
    "        truncate_path = data_dir + ('%05d' % FLAGS.charset_size)\n",
    "        print(truncate_path)\n",
    "        self.image_names = []\n",
    "        for root, sub_folder, file_list in os.walk(data_dir):\n",
    "            if root < truncate_path:\n",
    "                self.image_names += [os.path.join(root, file_path) for file_path in file_list]\n",
    "        random.shuffle(self.image_names)\n",
    "        self.labels = [int(file_name[len(data_dir):].split(os.sep)[0]) for file_name in self.image_names]\n",
    "\n",
    "    @property\n",
    "    def size(self):\n",
    "        return len(self.labels)\n",
    "\n",
    "    def input_pipeline(self, batch_size, num_epochs=None, aug=False):\n",
    "        images_tensor = tf.convert_to_tensor(self.image_names, dtype=tf.string)\n",
    "        labels_tensor = tf.convert_to_tensor(self.labels, dtype=tf.int64)\n",
    "        input_queue = tf.train.slice_input_producer([images_tensor, labels_tensor], num_epochs=num_epochs)\n",
    "\n",
    "        labels = input_queue[1]\n",
    "        images_content = tf.read_file(input_queue[0])\n",
    "        images = tf.image.convert_image_dtype(tf.image.decode_png(images_content, channels=1), tf.float32)\n",
    "        if aug:\n",
    "            images = self.data_augmentation(images)\n",
    "        new_size = tf.constant([FLAGS.image_size, FLAGS.image_size], dtype=tf.int32)\n",
    "        images = tf.image.resize_images(images, new_size)\n",
    "        image_batch, label_batch = tf.train.shuffle_batch([images, labels], batch_size=batch_size, capacity=50000,\n",
    "                                                          min_after_dequeue=10000)\n",
    "        return image_batch, label_batch\n",
    "    \n",
    "test_feeder = DataIterator(data_dir='../data/sandbox/')\n",
    "print ('sandbox: ', test_feeder.size)\n",
    "\n",
    "test_partial_data = test_feeder.input_pipeline(10)\n",
    "print (test_partial_data[0][1], test_partial_data[1][1])\n",
    "\n",
    "\n",
    "\n",
    "print ('====')\n",
    "\n",
    "# sess = tf.InteractiveSession()\n",
    "\n",
    "# print ( 'test index(folder name) is: ',test_partial_data[1][1].eval())  # [1, 2], dtype=tf.int32\n",
    "# sess.close()\n",
    "\n",
    "# sess = tf.InteractiveSession()\n",
    "# Some tensor we want to print the value of\n",
    "# a = tf.constant([1.0, 3.0])\n",
    "\n",
    "# Add print operation\n",
    "# a = tf.Print(a, [a], message=\"This is a: \")\n",
    "\n",
    "a = test_partial_data\n",
    "b = tf.to_float(a[0])\n",
    "print ('b is: ', b)\n",
    "out = tf.Print(b, [b, \"anything I want\"])\n",
    "\n",
    "# sess = tf.Session()\n",
    "# init_op = tf.global_variables_initializer()\n",
    "# sess.run(init_op)\n",
    "# print('input 1: ', sess.run(a))\n",
    "# sess.close()\n",
    "print ('here.')\n",
    "print ('====')\n"
   ]
  },
  {
   "cell_type": "markdown",
   "metadata": {},
   "source": [
    "test有test:  223991条数据。\n",
    "\n",
    "取出10条test，其shape如下：<tf.Tensor 'shuffle_batch:0' shape=(10, 64, 64, 1) dtype=float32>,\n",
    " <tf.Tensor 'shuffle_batch:1' shape=(10,) dtype=int64>)\n",
    " \n",
    " 原始数据中，有一个char_dict文件，内容部份如下：\n",
    " ```\n",
    " (dp0\n",
    "V\\u6000\n",
    "p1\n",
    "I1126\n",
    "sV\\u6302\n",
    "p2\n",
    "I1337\n",
    "sV\\u8000\n",
    "p3\n",
    "I2669\n",
    "sV\\u6d89\n",
    "p4\n",
    "I1906\n",
    "sV\\u8c08\n",
    "p5\n",
    "I3124\n",
    "sV\\u4f0a\n",
    "p6\n",
    "I121\n",
    "```"
   ]
  },
  {
   "cell_type": "code",
   "execution_count": 36,
   "metadata": {},
   "outputs": [
    {
     "name": "stdout",
     "output_type": "stream",
     "text": [
      "谈 伊\n"
     ]
    }
   ],
   "source": [
    "print ('\\u8c08', '\\u4f0a')"
   ]
  },
  {
   "cell_type": "markdown",
   "metadata": {},
   "source": [
    "其中，3124号目录中，是'谈'字。 121目录下，还真是'伊'字。\n"
   ]
  },
  {
   "cell_type": "markdown",
   "metadata": {},
   "source": [
    "Show test data image:\n",
    "https://stackoverflow.com/questions/33648322/tensorflow-image-reading-display"
   ]
  },
  {
   "cell_type": "code",
   "execution_count": 3,
   "metadata": {},
   "outputs": [
    {
     "data": {
      "text/html": [
       "<img src=\"../data/test/03124/8243.png\"/>"
      ],
      "text/plain": [
       "<IPython.core.display.Image object>"
      ]
     },
     "metadata": {},
     "output_type": "display_data"
    },
    {
     "data": {
      "text/html": [
       "<img src=\"../data/train/01906/48580.png\"/>"
      ],
      "text/plain": [
       "<IPython.core.display.Image object>"
      ]
     },
     "metadata": {},
     "output_type": "display_data"
    },
    {
     "data": {
      "text/html": [
       "<img src=\"../data/test/01906/3018.png\"/>"
      ],
      "text/plain": [
       "<IPython.core.display.Image object>"
      ]
     },
     "metadata": {},
     "output_type": "display_data"
    }
   ],
   "source": [
    "from IPython.display import Image\n",
    "from IPython.display import display\n",
    "display(Image(url='../data/test/03124/8243.png'))\n",
    "display(Image(url='../data/train/01906/48580.png'))\n",
    "display(Image(url='../data/test/01906/3018.png'))\n",
    "\n",
    "\n",
    "\n",
    "\n"
   ]
  },
  {
   "cell_type": "markdown",
   "metadata": {},
   "source": [
    "上面的代码，会显示一个手写的“谈”字。以上代码来自：http://www.worthandlung.de/jupyter/display-gif-img-jupyter.html"
   ]
  }
 ],
 "metadata": {
  "kernelspec": {
   "display_name": "Python 3",
   "language": "python",
   "name": "python3"
  },
  "language_info": {
   "codemirror_mode": {
    "name": "ipython",
    "version": 3
   },
   "file_extension": ".py",
   "mimetype": "text/x-python",
   "name": "python",
   "nbconvert_exporter": "python",
   "pygments_lexer": "ipython3",
   "version": "3.6.3"
  }
 },
 "nbformat": 4,
 "nbformat_minor": 1
}
